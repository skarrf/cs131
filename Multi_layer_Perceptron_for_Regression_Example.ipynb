{
  "nbformat": 4,
  "nbformat_minor": 0,
  "metadata": {
    "colab": {
      "provenance": []
    },
    "kernelspec": {
      "name": "python3",
      "display_name": "Python 3"
    },
    "language_info": {
      "name": "python"
    }
  },
  "cells": [
    {
      "cell_type": "markdown",
      "source": [
        "# Import necessary libraries"
      ],
      "metadata": {
        "id": "4PyhOwZuRyfg"
      }
    },
    {
      "cell_type": "code",
      "execution_count": 1,
      "metadata": {
        "id": "W1SH9BIYPHk1"
      },
      "outputs": [],
      "source": [
        "# Sklearn\n",
        "from sklearn.model_selection import train_test_split\n",
        "\n",
        "# Tensorflow\n",
        "import keras\n",
        "import tensorflow as tf\n",
        "from tensorflow.keras.layers import Dense, Input\n",
        "from tensorflow.keras.models import Sequential, Model\n",
        "\n",
        "# Plotting tools\n",
        "import matplotlib.pyplot as plt\n",
        "\n",
        "# Other modules\n",
        "import pandas as pd\n",
        "import numpy as np"
      ]
    },
    {
      "cell_type": "markdown",
      "source": [
        "# Load dataset from UCI: Predict Fuel Efficiency\n"
      ],
      "metadata": {
        "id": "Wjl9Cc-ER1Ry"
      }
    },
    {
      "cell_type": "code",
      "source": [
        "url = 'http://archive.ics.uci.edu/ml/machine-learning-databases/auto-mpg/auto-mpg.data'\n",
        "column_names = ['MPG', 'Cylinders', 'Displacement', 'Horsepower', 'Weight',\n",
        "                'Acceleration', 'Model Year', 'Origin']\n",
        "\n",
        "df = pd.read_csv(\n",
        "    url, names=column_names,\n",
        "    na_values='?', comment='\\t',\n",
        "    sep=' ', skipinitialspace=True\n",
        ")\n",
        "df.head()"
      ],
      "metadata": {
        "colab": {
          "base_uri": "https://localhost:8080/",
          "height": 206
        },
        "id": "D23eZK414Tw3",
        "outputId": "13482855-1bc4-4c44-bb54-99e80074bc85"
      },
      "execution_count": 2,
      "outputs": [
        {
          "output_type": "execute_result",
          "data": {
            "text/plain": [
              "    MPG  Cylinders  Displacement  Horsepower  Weight  Acceleration  \\\n",
              "0  18.0          8         307.0       130.0  3504.0          12.0   \n",
              "1  15.0          8         350.0       165.0  3693.0          11.5   \n",
              "2  18.0          8         318.0       150.0  3436.0          11.0   \n",
              "3  16.0          8         304.0       150.0  3433.0          12.0   \n",
              "4  17.0          8         302.0       140.0  3449.0          10.5   \n",
              "\n",
              "   Model Year  Origin  \n",
              "0          70       1  \n",
              "1          70       1  \n",
              "2          70       1  \n",
              "3          70       1  \n",
              "4          70       1  "
            ],
            "text/html": [
              "\n",
              "  <div id=\"df-5e976926-9eed-4df6-86d2-c63944f25dc9\" class=\"colab-df-container\">\n",
              "    <div>\n",
              "<style scoped>\n",
              "    .dataframe tbody tr th:only-of-type {\n",
              "        vertical-align: middle;\n",
              "    }\n",
              "\n",
              "    .dataframe tbody tr th {\n",
              "        vertical-align: top;\n",
              "    }\n",
              "\n",
              "    .dataframe thead th {\n",
              "        text-align: right;\n",
              "    }\n",
              "</style>\n",
              "<table border=\"1\" class=\"dataframe\">\n",
              "  <thead>\n",
              "    <tr style=\"text-align: right;\">\n",
              "      <th></th>\n",
              "      <th>MPG</th>\n",
              "      <th>Cylinders</th>\n",
              "      <th>Displacement</th>\n",
              "      <th>Horsepower</th>\n",
              "      <th>Weight</th>\n",
              "      <th>Acceleration</th>\n",
              "      <th>Model Year</th>\n",
              "      <th>Origin</th>\n",
              "    </tr>\n",
              "  </thead>\n",
              "  <tbody>\n",
              "    <tr>\n",
              "      <th>0</th>\n",
              "      <td>18.0</td>\n",
              "      <td>8</td>\n",
              "      <td>307.0</td>\n",
              "      <td>130.0</td>\n",
              "      <td>3504.0</td>\n",
              "      <td>12.0</td>\n",
              "      <td>70</td>\n",
              "      <td>1</td>\n",
              "    </tr>\n",
              "    <tr>\n",
              "      <th>1</th>\n",
              "      <td>15.0</td>\n",
              "      <td>8</td>\n",
              "      <td>350.0</td>\n",
              "      <td>165.0</td>\n",
              "      <td>3693.0</td>\n",
              "      <td>11.5</td>\n",
              "      <td>70</td>\n",
              "      <td>1</td>\n",
              "    </tr>\n",
              "    <tr>\n",
              "      <th>2</th>\n",
              "      <td>18.0</td>\n",
              "      <td>8</td>\n",
              "      <td>318.0</td>\n",
              "      <td>150.0</td>\n",
              "      <td>3436.0</td>\n",
              "      <td>11.0</td>\n",
              "      <td>70</td>\n",
              "      <td>1</td>\n",
              "    </tr>\n",
              "    <tr>\n",
              "      <th>3</th>\n",
              "      <td>16.0</td>\n",
              "      <td>8</td>\n",
              "      <td>304.0</td>\n",
              "      <td>150.0</td>\n",
              "      <td>3433.0</td>\n",
              "      <td>12.0</td>\n",
              "      <td>70</td>\n",
              "      <td>1</td>\n",
              "    </tr>\n",
              "    <tr>\n",
              "      <th>4</th>\n",
              "      <td>17.0</td>\n",
              "      <td>8</td>\n",
              "      <td>302.0</td>\n",
              "      <td>140.0</td>\n",
              "      <td>3449.0</td>\n",
              "      <td>10.5</td>\n",
              "      <td>70</td>\n",
              "      <td>1</td>\n",
              "    </tr>\n",
              "  </tbody>\n",
              "</table>\n",
              "</div>\n",
              "    <div class=\"colab-df-buttons\">\n",
              "\n",
              "  <div class=\"colab-df-container\">\n",
              "    <button class=\"colab-df-convert\" onclick=\"convertToInteractive('df-5e976926-9eed-4df6-86d2-c63944f25dc9')\"\n",
              "            title=\"Convert this dataframe to an interactive table.\"\n",
              "            style=\"display:none;\">\n",
              "\n",
              "  <svg xmlns=\"http://www.w3.org/2000/svg\" height=\"24px\" viewBox=\"0 -960 960 960\">\n",
              "    <path d=\"M120-120v-720h720v720H120Zm60-500h600v-160H180v160Zm220 220h160v-160H400v160Zm0 220h160v-160H400v160ZM180-400h160v-160H180v160Zm440 0h160v-160H620v160ZM180-180h160v-160H180v160Zm440 0h160v-160H620v160Z\"/>\n",
              "  </svg>\n",
              "    </button>\n",
              "\n",
              "  <style>\n",
              "    .colab-df-container {\n",
              "      display:flex;\n",
              "      gap: 12px;\n",
              "    }\n",
              "\n",
              "    .colab-df-convert {\n",
              "      background-color: #E8F0FE;\n",
              "      border: none;\n",
              "      border-radius: 50%;\n",
              "      cursor: pointer;\n",
              "      display: none;\n",
              "      fill: #1967D2;\n",
              "      height: 32px;\n",
              "      padding: 0 0 0 0;\n",
              "      width: 32px;\n",
              "    }\n",
              "\n",
              "    .colab-df-convert:hover {\n",
              "      background-color: #E2EBFA;\n",
              "      box-shadow: 0px 1px 2px rgba(60, 64, 67, 0.3), 0px 1px 3px 1px rgba(60, 64, 67, 0.15);\n",
              "      fill: #174EA6;\n",
              "    }\n",
              "\n",
              "    .colab-df-buttons div {\n",
              "      margin-bottom: 4px;\n",
              "    }\n",
              "\n",
              "    [theme=dark] .colab-df-convert {\n",
              "      background-color: #3B4455;\n",
              "      fill: #D2E3FC;\n",
              "    }\n",
              "\n",
              "    [theme=dark] .colab-df-convert:hover {\n",
              "      background-color: #434B5C;\n",
              "      box-shadow: 0px 1px 3px 1px rgba(0, 0, 0, 0.15);\n",
              "      filter: drop-shadow(0px 1px 2px rgba(0, 0, 0, 0.3));\n",
              "      fill: #FFFFFF;\n",
              "    }\n",
              "  </style>\n",
              "\n",
              "    <script>\n",
              "      const buttonEl =\n",
              "        document.querySelector('#df-5e976926-9eed-4df6-86d2-c63944f25dc9 button.colab-df-convert');\n",
              "      buttonEl.style.display =\n",
              "        google.colab.kernel.accessAllowed ? 'block' : 'none';\n",
              "\n",
              "      async function convertToInteractive(key) {\n",
              "        const element = document.querySelector('#df-5e976926-9eed-4df6-86d2-c63944f25dc9');\n",
              "        const dataTable =\n",
              "          await google.colab.kernel.invokeFunction('convertToInteractive',\n",
              "                                                    [key], {});\n",
              "        if (!dataTable) return;\n",
              "\n",
              "        const docLinkHtml = 'Like what you see? Visit the ' +\n",
              "          '<a target=\"_blank\" href=https://colab.research.google.com/notebooks/data_table.ipynb>data table notebook</a>'\n",
              "          + ' to learn more about interactive tables.';\n",
              "        element.innerHTML = '';\n",
              "        dataTable['output_type'] = 'display_data';\n",
              "        await google.colab.output.renderOutput(dataTable, element);\n",
              "        const docLink = document.createElement('div');\n",
              "        docLink.innerHTML = docLinkHtml;\n",
              "        element.appendChild(docLink);\n",
              "      }\n",
              "    </script>\n",
              "  </div>\n",
              "\n",
              "\n",
              "<div id=\"df-a2ca7025-9413-4b61-a56c-aa0d5412dab8\">\n",
              "  <button class=\"colab-df-quickchart\" onclick=\"quickchart('df-a2ca7025-9413-4b61-a56c-aa0d5412dab8')\"\n",
              "            title=\"Suggest charts\"\n",
              "            style=\"display:none;\">\n",
              "\n",
              "<svg xmlns=\"http://www.w3.org/2000/svg\" height=\"24px\"viewBox=\"0 0 24 24\"\n",
              "     width=\"24px\">\n",
              "    <g>\n",
              "        <path d=\"M19 3H5c-1.1 0-2 .9-2 2v14c0 1.1.9 2 2 2h14c1.1 0 2-.9 2-2V5c0-1.1-.9-2-2-2zM9 17H7v-7h2v7zm4 0h-2V7h2v10zm4 0h-2v-4h2v4z\"/>\n",
              "    </g>\n",
              "</svg>\n",
              "  </button>\n",
              "\n",
              "<style>\n",
              "  .colab-df-quickchart {\n",
              "      --bg-color: #E8F0FE;\n",
              "      --fill-color: #1967D2;\n",
              "      --hover-bg-color: #E2EBFA;\n",
              "      --hover-fill-color: #174EA6;\n",
              "      --disabled-fill-color: #AAA;\n",
              "      --disabled-bg-color: #DDD;\n",
              "  }\n",
              "\n",
              "  [theme=dark] .colab-df-quickchart {\n",
              "      --bg-color: #3B4455;\n",
              "      --fill-color: #D2E3FC;\n",
              "      --hover-bg-color: #434B5C;\n",
              "      --hover-fill-color: #FFFFFF;\n",
              "      --disabled-bg-color: #3B4455;\n",
              "      --disabled-fill-color: #666;\n",
              "  }\n",
              "\n",
              "  .colab-df-quickchart {\n",
              "    background-color: var(--bg-color);\n",
              "    border: none;\n",
              "    border-radius: 50%;\n",
              "    cursor: pointer;\n",
              "    display: none;\n",
              "    fill: var(--fill-color);\n",
              "    height: 32px;\n",
              "    padding: 0;\n",
              "    width: 32px;\n",
              "  }\n",
              "\n",
              "  .colab-df-quickchart:hover {\n",
              "    background-color: var(--hover-bg-color);\n",
              "    box-shadow: 0 1px 2px rgba(60, 64, 67, 0.3), 0 1px 3px 1px rgba(60, 64, 67, 0.15);\n",
              "    fill: var(--button-hover-fill-color);\n",
              "  }\n",
              "\n",
              "  .colab-df-quickchart-complete:disabled,\n",
              "  .colab-df-quickchart-complete:disabled:hover {\n",
              "    background-color: var(--disabled-bg-color);\n",
              "    fill: var(--disabled-fill-color);\n",
              "    box-shadow: none;\n",
              "  }\n",
              "\n",
              "  .colab-df-spinner {\n",
              "    border: 2px solid var(--fill-color);\n",
              "    border-color: transparent;\n",
              "    border-bottom-color: var(--fill-color);\n",
              "    animation:\n",
              "      spin 1s steps(1) infinite;\n",
              "  }\n",
              "\n",
              "  @keyframes spin {\n",
              "    0% {\n",
              "      border-color: transparent;\n",
              "      border-bottom-color: var(--fill-color);\n",
              "      border-left-color: var(--fill-color);\n",
              "    }\n",
              "    20% {\n",
              "      border-color: transparent;\n",
              "      border-left-color: var(--fill-color);\n",
              "      border-top-color: var(--fill-color);\n",
              "    }\n",
              "    30% {\n",
              "      border-color: transparent;\n",
              "      border-left-color: var(--fill-color);\n",
              "      border-top-color: var(--fill-color);\n",
              "      border-right-color: var(--fill-color);\n",
              "    }\n",
              "    40% {\n",
              "      border-color: transparent;\n",
              "      border-right-color: var(--fill-color);\n",
              "      border-top-color: var(--fill-color);\n",
              "    }\n",
              "    60% {\n",
              "      border-color: transparent;\n",
              "      border-right-color: var(--fill-color);\n",
              "    }\n",
              "    80% {\n",
              "      border-color: transparent;\n",
              "      border-right-color: var(--fill-color);\n",
              "      border-bottom-color: var(--fill-color);\n",
              "    }\n",
              "    90% {\n",
              "      border-color: transparent;\n",
              "      border-bottom-color: var(--fill-color);\n",
              "    }\n",
              "  }\n",
              "</style>\n",
              "\n",
              "  <script>\n",
              "    async function quickchart(key) {\n",
              "      const quickchartButtonEl =\n",
              "        document.querySelector('#' + key + ' button');\n",
              "      quickchartButtonEl.disabled = true;  // To prevent multiple clicks.\n",
              "      quickchartButtonEl.classList.add('colab-df-spinner');\n",
              "      try {\n",
              "        const charts = await google.colab.kernel.invokeFunction(\n",
              "            'suggestCharts', [key], {});\n",
              "      } catch (error) {\n",
              "        console.error('Error during call to suggestCharts:', error);\n",
              "      }\n",
              "      quickchartButtonEl.classList.remove('colab-df-spinner');\n",
              "      quickchartButtonEl.classList.add('colab-df-quickchart-complete');\n",
              "    }\n",
              "    (() => {\n",
              "      let quickchartButtonEl =\n",
              "        document.querySelector('#df-a2ca7025-9413-4b61-a56c-aa0d5412dab8 button');\n",
              "      quickchartButtonEl.style.display =\n",
              "        google.colab.kernel.accessAllowed ? 'block' : 'none';\n",
              "    })();\n",
              "  </script>\n",
              "</div>\n",
              "\n",
              "    </div>\n",
              "  </div>\n"
            ],
            "application/vnd.google.colaboratory.intrinsic+json": {
              "type": "dataframe",
              "variable_name": "df",
              "summary": "{\n  \"name\": \"df\",\n  \"rows\": 398,\n  \"fields\": [\n    {\n      \"column\": \"MPG\",\n      \"properties\": {\n        \"dtype\": \"number\",\n        \"std\": 7.815984312565782,\n        \"min\": 9.0,\n        \"max\": 46.6,\n        \"num_unique_values\": 129,\n        \"samples\": [\n          17.7,\n          30.5,\n          30.0\n        ],\n        \"semantic_type\": \"\",\n        \"description\": \"\"\n      }\n    },\n    {\n      \"column\": \"Cylinders\",\n      \"properties\": {\n        \"dtype\": \"number\",\n        \"std\": 1,\n        \"min\": 3,\n        \"max\": 8,\n        \"num_unique_values\": 5,\n        \"samples\": [\n          4,\n          5,\n          6\n        ],\n        \"semantic_type\": \"\",\n        \"description\": \"\"\n      }\n    },\n    {\n      \"column\": \"Displacement\",\n      \"properties\": {\n        \"dtype\": \"number\",\n        \"std\": 104.26983817119581,\n        \"min\": 68.0,\n        \"max\": 455.0,\n        \"num_unique_values\": 82,\n        \"samples\": [\n          122.0,\n          307.0,\n          360.0\n        ],\n        \"semantic_type\": \"\",\n        \"description\": \"\"\n      }\n    },\n    {\n      \"column\": \"Horsepower\",\n      \"properties\": {\n        \"dtype\": \"number\",\n        \"std\": 38.49115993282855,\n        \"min\": 46.0,\n        \"max\": 230.0,\n        \"num_unique_values\": 93,\n        \"samples\": [\n          92.0,\n          100.0,\n          52.0\n        ],\n        \"semantic_type\": \"\",\n        \"description\": \"\"\n      }\n    },\n    {\n      \"column\": \"Weight\",\n      \"properties\": {\n        \"dtype\": \"number\",\n        \"std\": 846.8417741973271,\n        \"min\": 1613.0,\n        \"max\": 5140.0,\n        \"num_unique_values\": 351,\n        \"samples\": [\n          3730.0,\n          1995.0,\n          2215.0\n        ],\n        \"semantic_type\": \"\",\n        \"description\": \"\"\n      }\n    },\n    {\n      \"column\": \"Acceleration\",\n      \"properties\": {\n        \"dtype\": \"number\",\n        \"std\": 2.7576889298126757,\n        \"min\": 8.0,\n        \"max\": 24.8,\n        \"num_unique_values\": 95,\n        \"samples\": [\n          14.7,\n          18.0,\n          14.3\n        ],\n        \"semantic_type\": \"\",\n        \"description\": \"\"\n      }\n    },\n    {\n      \"column\": \"Model Year\",\n      \"properties\": {\n        \"dtype\": \"number\",\n        \"std\": 3,\n        \"min\": 70,\n        \"max\": 82,\n        \"num_unique_values\": 13,\n        \"samples\": [\n          81,\n          79,\n          70\n        ],\n        \"semantic_type\": \"\",\n        \"description\": \"\"\n      }\n    },\n    {\n      \"column\": \"Origin\",\n      \"properties\": {\n        \"dtype\": \"number\",\n        \"std\": 0,\n        \"min\": 1,\n        \"max\": 3,\n        \"num_unique_values\": 3,\n        \"samples\": [\n          1,\n          3,\n          2\n        ],\n        \"semantic_type\": \"\",\n        \"description\": \"\"\n      }\n    }\n  ]\n}"
            }
          },
          "metadata": {},
          "execution_count": 2
        }
      ]
    },
    {
      "cell_type": "markdown",
      "source": [
        "### Check NaN values and duplicates data"
      ],
      "metadata": {
        "id": "Of53pQ0KShks"
      }
    },
    {
      "cell_type": "code",
      "source": [
        "df.isna()"
      ],
      "metadata": {
        "colab": {
          "base_uri": "https://localhost:8080/",
          "height": 424
        },
        "id": "CVR8pTccROwU",
        "outputId": "c0bb0f4e-9d71-47f4-fbc3-01b9f3b57a03"
      },
      "execution_count": 3,
      "outputs": [
        {
          "output_type": "execute_result",
          "data": {
            "text/plain": [
              "       MPG  Cylinders  Displacement  Horsepower  Weight  Acceleration  \\\n",
              "0    False      False         False       False   False         False   \n",
              "1    False      False         False       False   False         False   \n",
              "2    False      False         False       False   False         False   \n",
              "3    False      False         False       False   False         False   \n",
              "4    False      False         False       False   False         False   \n",
              "..     ...        ...           ...         ...     ...           ...   \n",
              "393  False      False         False       False   False         False   \n",
              "394  False      False         False       False   False         False   \n",
              "395  False      False         False       False   False         False   \n",
              "396  False      False         False       False   False         False   \n",
              "397  False      False         False       False   False         False   \n",
              "\n",
              "     Model Year  Origin  \n",
              "0         False   False  \n",
              "1         False   False  \n",
              "2         False   False  \n",
              "3         False   False  \n",
              "4         False   False  \n",
              "..          ...     ...  \n",
              "393       False   False  \n",
              "394       False   False  \n",
              "395       False   False  \n",
              "396       False   False  \n",
              "397       False   False  \n",
              "\n",
              "[398 rows x 8 columns]"
            ],
            "text/html": [
              "\n",
              "  <div id=\"df-978f0d69-b1bf-4c3a-b086-e0fed20afcb2\" class=\"colab-df-container\">\n",
              "    <div>\n",
              "<style scoped>\n",
              "    .dataframe tbody tr th:only-of-type {\n",
              "        vertical-align: middle;\n",
              "    }\n",
              "\n",
              "    .dataframe tbody tr th {\n",
              "        vertical-align: top;\n",
              "    }\n",
              "\n",
              "    .dataframe thead th {\n",
              "        text-align: right;\n",
              "    }\n",
              "</style>\n",
              "<table border=\"1\" class=\"dataframe\">\n",
              "  <thead>\n",
              "    <tr style=\"text-align: right;\">\n",
              "      <th></th>\n",
              "      <th>MPG</th>\n",
              "      <th>Cylinders</th>\n",
              "      <th>Displacement</th>\n",
              "      <th>Horsepower</th>\n",
              "      <th>Weight</th>\n",
              "      <th>Acceleration</th>\n",
              "      <th>Model Year</th>\n",
              "      <th>Origin</th>\n",
              "    </tr>\n",
              "  </thead>\n",
              "  <tbody>\n",
              "    <tr>\n",
              "      <th>0</th>\n",
              "      <td>False</td>\n",
              "      <td>False</td>\n",
              "      <td>False</td>\n",
              "      <td>False</td>\n",
              "      <td>False</td>\n",
              "      <td>False</td>\n",
              "      <td>False</td>\n",
              "      <td>False</td>\n",
              "    </tr>\n",
              "    <tr>\n",
              "      <th>1</th>\n",
              "      <td>False</td>\n",
              "      <td>False</td>\n",
              "      <td>False</td>\n",
              "      <td>False</td>\n",
              "      <td>False</td>\n",
              "      <td>False</td>\n",
              "      <td>False</td>\n",
              "      <td>False</td>\n",
              "    </tr>\n",
              "    <tr>\n",
              "      <th>2</th>\n",
              "      <td>False</td>\n",
              "      <td>False</td>\n",
              "      <td>False</td>\n",
              "      <td>False</td>\n",
              "      <td>False</td>\n",
              "      <td>False</td>\n",
              "      <td>False</td>\n",
              "      <td>False</td>\n",
              "    </tr>\n",
              "    <tr>\n",
              "      <th>3</th>\n",
              "      <td>False</td>\n",
              "      <td>False</td>\n",
              "      <td>False</td>\n",
              "      <td>False</td>\n",
              "      <td>False</td>\n",
              "      <td>False</td>\n",
              "      <td>False</td>\n",
              "      <td>False</td>\n",
              "    </tr>\n",
              "    <tr>\n",
              "      <th>4</th>\n",
              "      <td>False</td>\n",
              "      <td>False</td>\n",
              "      <td>False</td>\n",
              "      <td>False</td>\n",
              "      <td>False</td>\n",
              "      <td>False</td>\n",
              "      <td>False</td>\n",
              "      <td>False</td>\n",
              "    </tr>\n",
              "    <tr>\n",
              "      <th>...</th>\n",
              "      <td>...</td>\n",
              "      <td>...</td>\n",
              "      <td>...</td>\n",
              "      <td>...</td>\n",
              "      <td>...</td>\n",
              "      <td>...</td>\n",
              "      <td>...</td>\n",
              "      <td>...</td>\n",
              "    </tr>\n",
              "    <tr>\n",
              "      <th>393</th>\n",
              "      <td>False</td>\n",
              "      <td>False</td>\n",
              "      <td>False</td>\n",
              "      <td>False</td>\n",
              "      <td>False</td>\n",
              "      <td>False</td>\n",
              "      <td>False</td>\n",
              "      <td>False</td>\n",
              "    </tr>\n",
              "    <tr>\n",
              "      <th>394</th>\n",
              "      <td>False</td>\n",
              "      <td>False</td>\n",
              "      <td>False</td>\n",
              "      <td>False</td>\n",
              "      <td>False</td>\n",
              "      <td>False</td>\n",
              "      <td>False</td>\n",
              "      <td>False</td>\n",
              "    </tr>\n",
              "    <tr>\n",
              "      <th>395</th>\n",
              "      <td>False</td>\n",
              "      <td>False</td>\n",
              "      <td>False</td>\n",
              "      <td>False</td>\n",
              "      <td>False</td>\n",
              "      <td>False</td>\n",
              "      <td>False</td>\n",
              "      <td>False</td>\n",
              "    </tr>\n",
              "    <tr>\n",
              "      <th>396</th>\n",
              "      <td>False</td>\n",
              "      <td>False</td>\n",
              "      <td>False</td>\n",
              "      <td>False</td>\n",
              "      <td>False</td>\n",
              "      <td>False</td>\n",
              "      <td>False</td>\n",
              "      <td>False</td>\n",
              "    </tr>\n",
              "    <tr>\n",
              "      <th>397</th>\n",
              "      <td>False</td>\n",
              "      <td>False</td>\n",
              "      <td>False</td>\n",
              "      <td>False</td>\n",
              "      <td>False</td>\n",
              "      <td>False</td>\n",
              "      <td>False</td>\n",
              "      <td>False</td>\n",
              "    </tr>\n",
              "  </tbody>\n",
              "</table>\n",
              "<p>398 rows × 8 columns</p>\n",
              "</div>\n",
              "    <div class=\"colab-df-buttons\">\n",
              "\n",
              "  <div class=\"colab-df-container\">\n",
              "    <button class=\"colab-df-convert\" onclick=\"convertToInteractive('df-978f0d69-b1bf-4c3a-b086-e0fed20afcb2')\"\n",
              "            title=\"Convert this dataframe to an interactive table.\"\n",
              "            style=\"display:none;\">\n",
              "\n",
              "  <svg xmlns=\"http://www.w3.org/2000/svg\" height=\"24px\" viewBox=\"0 -960 960 960\">\n",
              "    <path d=\"M120-120v-720h720v720H120Zm60-500h600v-160H180v160Zm220 220h160v-160H400v160Zm0 220h160v-160H400v160ZM180-400h160v-160H180v160Zm440 0h160v-160H620v160ZM180-180h160v-160H180v160Zm440 0h160v-160H620v160Z\"/>\n",
              "  </svg>\n",
              "    </button>\n",
              "\n",
              "  <style>\n",
              "    .colab-df-container {\n",
              "      display:flex;\n",
              "      gap: 12px;\n",
              "    }\n",
              "\n",
              "    .colab-df-convert {\n",
              "      background-color: #E8F0FE;\n",
              "      border: none;\n",
              "      border-radius: 50%;\n",
              "      cursor: pointer;\n",
              "      display: none;\n",
              "      fill: #1967D2;\n",
              "      height: 32px;\n",
              "      padding: 0 0 0 0;\n",
              "      width: 32px;\n",
              "    }\n",
              "\n",
              "    .colab-df-convert:hover {\n",
              "      background-color: #E2EBFA;\n",
              "      box-shadow: 0px 1px 2px rgba(60, 64, 67, 0.3), 0px 1px 3px 1px rgba(60, 64, 67, 0.15);\n",
              "      fill: #174EA6;\n",
              "    }\n",
              "\n",
              "    .colab-df-buttons div {\n",
              "      margin-bottom: 4px;\n",
              "    }\n",
              "\n",
              "    [theme=dark] .colab-df-convert {\n",
              "      background-color: #3B4455;\n",
              "      fill: #D2E3FC;\n",
              "    }\n",
              "\n",
              "    [theme=dark] .colab-df-convert:hover {\n",
              "      background-color: #434B5C;\n",
              "      box-shadow: 0px 1px 3px 1px rgba(0, 0, 0, 0.15);\n",
              "      filter: drop-shadow(0px 1px 2px rgba(0, 0, 0, 0.3));\n",
              "      fill: #FFFFFF;\n",
              "    }\n",
              "  </style>\n",
              "\n",
              "    <script>\n",
              "      const buttonEl =\n",
              "        document.querySelector('#df-978f0d69-b1bf-4c3a-b086-e0fed20afcb2 button.colab-df-convert');\n",
              "      buttonEl.style.display =\n",
              "        google.colab.kernel.accessAllowed ? 'block' : 'none';\n",
              "\n",
              "      async function convertToInteractive(key) {\n",
              "        const element = document.querySelector('#df-978f0d69-b1bf-4c3a-b086-e0fed20afcb2');\n",
              "        const dataTable =\n",
              "          await google.colab.kernel.invokeFunction('convertToInteractive',\n",
              "                                                    [key], {});\n",
              "        if (!dataTable) return;\n",
              "\n",
              "        const docLinkHtml = 'Like what you see? Visit the ' +\n",
              "          '<a target=\"_blank\" href=https://colab.research.google.com/notebooks/data_table.ipynb>data table notebook</a>'\n",
              "          + ' to learn more about interactive tables.';\n",
              "        element.innerHTML = '';\n",
              "        dataTable['output_type'] = 'display_data';\n",
              "        await google.colab.output.renderOutput(dataTable, element);\n",
              "        const docLink = document.createElement('div');\n",
              "        docLink.innerHTML = docLinkHtml;\n",
              "        element.appendChild(docLink);\n",
              "      }\n",
              "    </script>\n",
              "  </div>\n",
              "\n",
              "\n",
              "<div id=\"df-0cc0a67b-8e6c-40f4-8c0d-1a44a6deccd0\">\n",
              "  <button class=\"colab-df-quickchart\" onclick=\"quickchart('df-0cc0a67b-8e6c-40f4-8c0d-1a44a6deccd0')\"\n",
              "            title=\"Suggest charts\"\n",
              "            style=\"display:none;\">\n",
              "\n",
              "<svg xmlns=\"http://www.w3.org/2000/svg\" height=\"24px\"viewBox=\"0 0 24 24\"\n",
              "     width=\"24px\">\n",
              "    <g>\n",
              "        <path d=\"M19 3H5c-1.1 0-2 .9-2 2v14c0 1.1.9 2 2 2h14c1.1 0 2-.9 2-2V5c0-1.1-.9-2-2-2zM9 17H7v-7h2v7zm4 0h-2V7h2v10zm4 0h-2v-4h2v4z\"/>\n",
              "    </g>\n",
              "</svg>\n",
              "  </button>\n",
              "\n",
              "<style>\n",
              "  .colab-df-quickchart {\n",
              "      --bg-color: #E8F0FE;\n",
              "      --fill-color: #1967D2;\n",
              "      --hover-bg-color: #E2EBFA;\n",
              "      --hover-fill-color: #174EA6;\n",
              "      --disabled-fill-color: #AAA;\n",
              "      --disabled-bg-color: #DDD;\n",
              "  }\n",
              "\n",
              "  [theme=dark] .colab-df-quickchart {\n",
              "      --bg-color: #3B4455;\n",
              "      --fill-color: #D2E3FC;\n",
              "      --hover-bg-color: #434B5C;\n",
              "      --hover-fill-color: #FFFFFF;\n",
              "      --disabled-bg-color: #3B4455;\n",
              "      --disabled-fill-color: #666;\n",
              "  }\n",
              "\n",
              "  .colab-df-quickchart {\n",
              "    background-color: var(--bg-color);\n",
              "    border: none;\n",
              "    border-radius: 50%;\n",
              "    cursor: pointer;\n",
              "    display: none;\n",
              "    fill: var(--fill-color);\n",
              "    height: 32px;\n",
              "    padding: 0;\n",
              "    width: 32px;\n",
              "  }\n",
              "\n",
              "  .colab-df-quickchart:hover {\n",
              "    background-color: var(--hover-bg-color);\n",
              "    box-shadow: 0 1px 2px rgba(60, 64, 67, 0.3), 0 1px 3px 1px rgba(60, 64, 67, 0.15);\n",
              "    fill: var(--button-hover-fill-color);\n",
              "  }\n",
              "\n",
              "  .colab-df-quickchart-complete:disabled,\n",
              "  .colab-df-quickchart-complete:disabled:hover {\n",
              "    background-color: var(--disabled-bg-color);\n",
              "    fill: var(--disabled-fill-color);\n",
              "    box-shadow: none;\n",
              "  }\n",
              "\n",
              "  .colab-df-spinner {\n",
              "    border: 2px solid var(--fill-color);\n",
              "    border-color: transparent;\n",
              "    border-bottom-color: var(--fill-color);\n",
              "    animation:\n",
              "      spin 1s steps(1) infinite;\n",
              "  }\n",
              "\n",
              "  @keyframes spin {\n",
              "    0% {\n",
              "      border-color: transparent;\n",
              "      border-bottom-color: var(--fill-color);\n",
              "      border-left-color: var(--fill-color);\n",
              "    }\n",
              "    20% {\n",
              "      border-color: transparent;\n",
              "      border-left-color: var(--fill-color);\n",
              "      border-top-color: var(--fill-color);\n",
              "    }\n",
              "    30% {\n",
              "      border-color: transparent;\n",
              "      border-left-color: var(--fill-color);\n",
              "      border-top-color: var(--fill-color);\n",
              "      border-right-color: var(--fill-color);\n",
              "    }\n",
              "    40% {\n",
              "      border-color: transparent;\n",
              "      border-right-color: var(--fill-color);\n",
              "      border-top-color: var(--fill-color);\n",
              "    }\n",
              "    60% {\n",
              "      border-color: transparent;\n",
              "      border-right-color: var(--fill-color);\n",
              "    }\n",
              "    80% {\n",
              "      border-color: transparent;\n",
              "      border-right-color: var(--fill-color);\n",
              "      border-bottom-color: var(--fill-color);\n",
              "    }\n",
              "    90% {\n",
              "      border-color: transparent;\n",
              "      border-bottom-color: var(--fill-color);\n",
              "    }\n",
              "  }\n",
              "</style>\n",
              "\n",
              "  <script>\n",
              "    async function quickchart(key) {\n",
              "      const quickchartButtonEl =\n",
              "        document.querySelector('#' + key + ' button');\n",
              "      quickchartButtonEl.disabled = true;  // To prevent multiple clicks.\n",
              "      quickchartButtonEl.classList.add('colab-df-spinner');\n",
              "      try {\n",
              "        const charts = await google.colab.kernel.invokeFunction(\n",
              "            'suggestCharts', [key], {});\n",
              "      } catch (error) {\n",
              "        console.error('Error during call to suggestCharts:', error);\n",
              "      }\n",
              "      quickchartButtonEl.classList.remove('colab-df-spinner');\n",
              "      quickchartButtonEl.classList.add('colab-df-quickchart-complete');\n",
              "    }\n",
              "    (() => {\n",
              "      let quickchartButtonEl =\n",
              "        document.querySelector('#df-0cc0a67b-8e6c-40f4-8c0d-1a44a6deccd0 button');\n",
              "      quickchartButtonEl.style.display =\n",
              "        google.colab.kernel.accessAllowed ? 'block' : 'none';\n",
              "    })();\n",
              "  </script>\n",
              "</div>\n",
              "\n",
              "    </div>\n",
              "  </div>\n"
            ],
            "application/vnd.google.colaboratory.intrinsic+json": {
              "type": "dataframe",
              "summary": "{\n  \"name\": \"df\",\n  \"rows\": 398,\n  \"fields\": [\n    {\n      \"column\": \"MPG\",\n      \"properties\": {\n        \"dtype\": \"boolean\",\n        \"num_unique_values\": 1,\n        \"samples\": [\n          false\n        ],\n        \"semantic_type\": \"\",\n        \"description\": \"\"\n      }\n    },\n    {\n      \"column\": \"Cylinders\",\n      \"properties\": {\n        \"dtype\": \"boolean\",\n        \"num_unique_values\": 1,\n        \"samples\": [\n          false\n        ],\n        \"semantic_type\": \"\",\n        \"description\": \"\"\n      }\n    },\n    {\n      \"column\": \"Displacement\",\n      \"properties\": {\n        \"dtype\": \"boolean\",\n        \"num_unique_values\": 1,\n        \"samples\": [\n          false\n        ],\n        \"semantic_type\": \"\",\n        \"description\": \"\"\n      }\n    },\n    {\n      \"column\": \"Horsepower\",\n      \"properties\": {\n        \"dtype\": \"boolean\",\n        \"num_unique_values\": 2,\n        \"samples\": [\n          true\n        ],\n        \"semantic_type\": \"\",\n        \"description\": \"\"\n      }\n    },\n    {\n      \"column\": \"Weight\",\n      \"properties\": {\n        \"dtype\": \"boolean\",\n        \"num_unique_values\": 1,\n        \"samples\": [\n          false\n        ],\n        \"semantic_type\": \"\",\n        \"description\": \"\"\n      }\n    },\n    {\n      \"column\": \"Acceleration\",\n      \"properties\": {\n        \"dtype\": \"boolean\",\n        \"num_unique_values\": 1,\n        \"samples\": [\n          false\n        ],\n        \"semantic_type\": \"\",\n        \"description\": \"\"\n      }\n    },\n    {\n      \"column\": \"Model Year\",\n      \"properties\": {\n        \"dtype\": \"boolean\",\n        \"num_unique_values\": 1,\n        \"samples\": [\n          false\n        ],\n        \"semantic_type\": \"\",\n        \"description\": \"\"\n      }\n    },\n    {\n      \"column\": \"Origin\",\n      \"properties\": {\n        \"dtype\": \"boolean\",\n        \"num_unique_values\": 1,\n        \"samples\": [\n          false\n        ],\n        \"semantic_type\": \"\",\n        \"description\": \"\"\n      }\n    }\n  ]\n}"
            }
          },
          "metadata": {},
          "execution_count": 3
        }
      ]
    },
    {
      "cell_type": "code",
      "source": [
        "print(df.isna().sum())\n",
        "print(\"-\"*30)\n",
        "print(f\"Number of NaN values: {df.isna().sum().sum()}\")"
      ],
      "metadata": {
        "colab": {
          "base_uri": "https://localhost:8080/"
        },
        "id": "j6kVydXKS-Wn",
        "outputId": "8be699be-fd67-480d-f7df-31fd5730831e"
      },
      "execution_count": 4,
      "outputs": [
        {
          "output_type": "stream",
          "name": "stdout",
          "text": [
            "MPG             0\n",
            "Cylinders       0\n",
            "Displacement    0\n",
            "Horsepower      6\n",
            "Weight          0\n",
            "Acceleration    0\n",
            "Model Year      0\n",
            "Origin          0\n",
            "dtype: int64\n",
            "------------------------------\n",
            "Number of NaN values: 6\n"
          ]
        }
      ]
    },
    {
      "cell_type": "code",
      "source": [
        "df.dropna(inplace=True)\n",
        "print(df.isna().sum())\n",
        "print(\"-\"*30)\n",
        "print(f\"Number of NaN values after dropping: {df.isna().sum().sum()}\")"
      ],
      "metadata": {
        "colab": {
          "base_uri": "https://localhost:8080/"
        },
        "id": "PPe3wXZZ4xn3",
        "outputId": "1dbf34c6-b7b5-42f0-aea1-a75e3300ff7d"
      },
      "execution_count": 5,
      "outputs": [
        {
          "output_type": "stream",
          "name": "stdout",
          "text": [
            "MPG             0\n",
            "Cylinders       0\n",
            "Displacement    0\n",
            "Horsepower      0\n",
            "Weight          0\n",
            "Acceleration    0\n",
            "Model Year      0\n",
            "Origin          0\n",
            "dtype: int64\n",
            "------------------------------\n",
            "Number of NaN values after dropping: 0\n"
          ]
        }
      ]
    },
    {
      "cell_type": "code",
      "source": [
        "print(df.duplicated())\n",
        "print(\"-\"*40)\n",
        "print(f\"Number of duplicates: {df.duplicated().sum()}\")"
      ],
      "metadata": {
        "colab": {
          "base_uri": "https://localhost:8080/"
        },
        "id": "29Q9A8rdSnYo",
        "outputId": "4cb7124b-ab8d-42d6-b6b7-ebbdb5b56d55"
      },
      "execution_count": 6,
      "outputs": [
        {
          "output_type": "stream",
          "name": "stdout",
          "text": [
            "0      False\n",
            "1      False\n",
            "2      False\n",
            "3      False\n",
            "4      False\n",
            "       ...  \n",
            "393    False\n",
            "394    False\n",
            "395    False\n",
            "396    False\n",
            "397    False\n",
            "Length: 392, dtype: bool\n",
            "----------------------------------------\n",
            "Number of duplicates: 0\n"
          ]
        }
      ]
    },
    {
      "cell_type": "markdown",
      "source": [
        "# Split data into train-val-test\n",
        "\n",
        "There are two approaches:\n",
        "\n",
        "1.   Small dataset: Split data into 80:20 train:test, and use K-fold cross-validation during the training\n",
        "2.   Large dataset: Split data into 80:10:10 train:val:test\n",
        "\n"
      ],
      "metadata": {
        "id": "74Fw_hiXVHUm"
      }
    },
    {
      "cell_type": "markdown",
      "source": [
        "### Separate X's (features) and y's (target)"
      ],
      "metadata": {
        "id": "peuP-QE2WMeD"
      }
    },
    {
      "cell_type": "code",
      "source": [
        "X = df.drop(labels=\"MPG\", axis=1)\n",
        "y = df[\"MPG\"]\n",
        "\n",
        "print(f\"Shape of X: {X.shape}\")\n",
        "print(f\"Shape of y: {y.shape}\")"
      ],
      "metadata": {
        "colab": {
          "base_uri": "https://localhost:8080/"
        },
        "id": "nsOa5acwWR2c",
        "outputId": "19cd9544-9c3f-46be-e84f-c8c32aaf21b6"
      },
      "execution_count": 7,
      "outputs": [
        {
          "output_type": "stream",
          "name": "stdout",
          "text": [
            "Shape of X: (392, 7)\n",
            "Shape of y: (392,)\n"
          ]
        }
      ]
    },
    {
      "cell_type": "markdown",
      "source": [
        "### Approach 1"
      ],
      "metadata": {
        "id": "IPTJWKElVwDV"
      }
    },
    {
      "cell_type": "code",
      "source": [
        "X_train1, X_test1, y_train1, y_test1 = train_test_split(X, y, test_size=0.2, shuffle=True, random_state=777)\n",
        "\n",
        "print(f\"Shape of X: {X.shape}\")\n",
        "print(f\"Shape of X_train: {X_train1.shape}\")\n",
        "print(f\"Shape of X_test: {X_test1.shape}\")"
      ],
      "metadata": {
        "colab": {
          "base_uri": "https://localhost:8080/"
        },
        "id": "j6d4a0o0TFvN",
        "outputId": "5bc1ffc9-e985-4963-9a1f-692cfdf63ab9"
      },
      "execution_count": 8,
      "outputs": [
        {
          "output_type": "stream",
          "name": "stdout",
          "text": [
            "Shape of X: (392, 7)\n",
            "Shape of X_train: (313, 7)\n",
            "Shape of X_test: (79, 7)\n"
          ]
        }
      ]
    },
    {
      "cell_type": "markdown",
      "source": [
        "### Approach 2"
      ],
      "metadata": {
        "id": "FXWd5swjVyCV"
      }
    },
    {
      "cell_type": "code",
      "source": [
        "X_train2, X_temp2, y_train2, y_temp2 = train_test_split(X, y, test_size=0.2, shuffle=True, random_state=777)\n",
        "X_val2, X_test2, y_val2, y_test2 = train_test_split(X_temp2, y_temp2, test_size=0.5, shuffle=True, random_state=777)\n",
        "\n",
        "print(f\"Shape of X: {X.shape}\")\n",
        "print(f\"Shape of X_train: {X_train2.shape}\")\n",
        "print(f\"Shape of X_valid: {X_val2.shape}\")\n",
        "print(f\"Shape of X_test: {X_test2.shape}\")\n"
      ],
      "metadata": {
        "colab": {
          "base_uri": "https://localhost:8080/"
        },
        "id": "S6KMlca2VzcS",
        "outputId": "8d143e39-ea55-40ca-84eb-3c88f922a562"
      },
      "execution_count": 9,
      "outputs": [
        {
          "output_type": "stream",
          "name": "stdout",
          "text": [
            "Shape of X: (392, 7)\n",
            "Shape of X_train: (313, 7)\n",
            "Shape of X_valid: (39, 7)\n",
            "Shape of X_test: (40, 7)\n"
          ]
        }
      ]
    },
    {
      "cell_type": "markdown",
      "source": [
        "# Multi-layer Perceptron using TensorFlow\n",
        "![MLP_Architecture.png](data:image/png;base64,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)"
      ],
      "metadata": {
        "id": "a0mXe93OYXmC"
      }
    },
    {
      "cell_type": "markdown",
      "source": [
        "### Define MLP model"
      ],
      "metadata": {
        "id": "dYNPdhS5ZAU-"
      }
    },
    {
      "cell_type": "code",
      "source": [
        "model = tf.keras.models.Sequential(layers=[\n",
        "  # Input layer\n",
        "  tf.keras.layers.Input(shape=(X_train1.shape[1],)),   # or tf.keras.layers.Dense(128, activation='relu', input_shape=(X_train1.shape[1],))\n",
        "\n",
        "  # Hidden layers\n",
        "  tf.keras.layers.Dense(128, activation='relu'),   # 1st hidden layer with 128 nodes\n",
        "  tf.keras.layers.Dense(128, activation='relu'),   # 2nd hidden layer with 128 nodes\n",
        "  tf.keras.layers.Dense(128, activation='relu'),   # 3rd hidden layer with 128 nodes\n",
        "\n",
        "  # Output layer\n",
        "  tf.keras.layers.Dense(1, activation='linear')\n",
        "  ],\n",
        "  trainable=True,\n",
        "  name='Multi-layer_Perceptron'\n",
        ")\n",
        "\n",
        "# Compile the model\n",
        "model.compile(optimizer='sgd', loss='mse', metrics=['mae'])\n",
        "\n",
        "model.summary()"
      ],
      "metadata": {
        "colab": {
          "base_uri": "https://localhost:8080/",
          "height": 272
        },
        "id": "LfeioK6vYb-f",
        "outputId": "a673ad2f-0eba-495d-9b0d-6f74cedd5271"
      },
      "execution_count": 53,
      "outputs": [
        {
          "output_type": "display_data",
          "data": {
            "text/plain": [
              "\u001b[1mModel: \"Multi-layer_Perceptron\"\u001b[0m\n"
            ],
            "text/html": [
              "<pre style=\"white-space:pre;overflow-x:auto;line-height:normal;font-family:Menlo,'DejaVu Sans Mono',consolas,'Courier New',monospace\"><span style=\"font-weight: bold\">Model: \"Multi-layer_Perceptron\"</span>\n",
              "</pre>\n"
            ]
          },
          "metadata": {}
        },
        {
          "output_type": "display_data",
          "data": {
            "text/plain": [
              "┏━━━━━━━━━━━━━━━━━━━━━━━━━━━━━━━━━━━━━━┳━━━━━━━━━━━━━━━━━━━━━━━━━━━━━┳━━━━━━━━━━━━━━━━━┓\n",
              "┃\u001b[1m \u001b[0m\u001b[1mLayer (type)                        \u001b[0m\u001b[1m \u001b[0m┃\u001b[1m \u001b[0m\u001b[1mOutput Shape               \u001b[0m\u001b[1m \u001b[0m┃\u001b[1m \u001b[0m\u001b[1m        Param #\u001b[0m\u001b[1m \u001b[0m┃\n",
              "┡━━━━━━━━━━━━━━━━━━━━━━━━━━━━━━━━━━━━━━╇━━━━━━━━━━━━━━━━━━━━━━━━━━━━━╇━━━━━━━━━━━━━━━━━┩\n",
              "│ dense_60 (\u001b[38;5;33mDense\u001b[0m)                     │ (\u001b[38;5;45mNone\u001b[0m, \u001b[38;5;34m128\u001b[0m)                 │           \u001b[38;5;34m1,024\u001b[0m │\n",
              "├──────────────────────────────────────┼─────────────────────────────┼─────────────────┤\n",
              "│ dense_61 (\u001b[38;5;33mDense\u001b[0m)                     │ (\u001b[38;5;45mNone\u001b[0m, \u001b[38;5;34m128\u001b[0m)                 │          \u001b[38;5;34m16,512\u001b[0m │\n",
              "├──────────────────────────────────────┼─────────────────────────────┼─────────────────┤\n",
              "│ dense_62 (\u001b[38;5;33mDense\u001b[0m)                     │ (\u001b[38;5;45mNone\u001b[0m, \u001b[38;5;34m128\u001b[0m)                 │          \u001b[38;5;34m16,512\u001b[0m │\n",
              "├──────────────────────────────────────┼─────────────────────────────┼─────────────────┤\n",
              "│ dense_63 (\u001b[38;5;33mDense\u001b[0m)                     │ (\u001b[38;5;45mNone\u001b[0m, \u001b[38;5;34m1\u001b[0m)                   │             \u001b[38;5;34m129\u001b[0m │\n",
              "└──────────────────────────────────────┴─────────────────────────────┴─────────────────┘\n"
            ],
            "text/html": [
              "<pre style=\"white-space:pre;overflow-x:auto;line-height:normal;font-family:Menlo,'DejaVu Sans Mono',consolas,'Courier New',monospace\">┏━━━━━━━━━━━━━━━━━━━━━━━━━━━━━━━━━━━━━━┳━━━━━━━━━━━━━━━━━━━━━━━━━━━━━┳━━━━━━━━━━━━━━━━━┓\n",
              "┃<span style=\"font-weight: bold\"> Layer (type)                         </span>┃<span style=\"font-weight: bold\"> Output Shape                </span>┃<span style=\"font-weight: bold\">         Param # </span>┃\n",
              "┡━━━━━━━━━━━━━━━━━━━━━━━━━━━━━━━━━━━━━━╇━━━━━━━━━━━━━━━━━━━━━━━━━━━━━╇━━━━━━━━━━━━━━━━━┩\n",
              "│ dense_60 (<span style=\"color: #0087ff; text-decoration-color: #0087ff\">Dense</span>)                     │ (<span style=\"color: #00d7ff; text-decoration-color: #00d7ff\">None</span>, <span style=\"color: #00af00; text-decoration-color: #00af00\">128</span>)                 │           <span style=\"color: #00af00; text-decoration-color: #00af00\">1,024</span> │\n",
              "├──────────────────────────────────────┼─────────────────────────────┼─────────────────┤\n",
              "│ dense_61 (<span style=\"color: #0087ff; text-decoration-color: #0087ff\">Dense</span>)                     │ (<span style=\"color: #00d7ff; text-decoration-color: #00d7ff\">None</span>, <span style=\"color: #00af00; text-decoration-color: #00af00\">128</span>)                 │          <span style=\"color: #00af00; text-decoration-color: #00af00\">16,512</span> │\n",
              "├──────────────────────────────────────┼─────────────────────────────┼─────────────────┤\n",
              "│ dense_62 (<span style=\"color: #0087ff; text-decoration-color: #0087ff\">Dense</span>)                     │ (<span style=\"color: #00d7ff; text-decoration-color: #00d7ff\">None</span>, <span style=\"color: #00af00; text-decoration-color: #00af00\">128</span>)                 │          <span style=\"color: #00af00; text-decoration-color: #00af00\">16,512</span> │\n",
              "├──────────────────────────────────────┼─────────────────────────────┼─────────────────┤\n",
              "│ dense_63 (<span style=\"color: #0087ff; text-decoration-color: #0087ff\">Dense</span>)                     │ (<span style=\"color: #00d7ff; text-decoration-color: #00d7ff\">None</span>, <span style=\"color: #00af00; text-decoration-color: #00af00\">1</span>)                   │             <span style=\"color: #00af00; text-decoration-color: #00af00\">129</span> │\n",
              "└──────────────────────────────────────┴─────────────────────────────┴─────────────────┘\n",
              "</pre>\n"
            ]
          },
          "metadata": {}
        },
        {
          "output_type": "display_data",
          "data": {
            "text/plain": [
              "\u001b[1m Total params: \u001b[0m\u001b[38;5;34m34,177\u001b[0m (133.50 KB)\n"
            ],
            "text/html": [
              "<pre style=\"white-space:pre;overflow-x:auto;line-height:normal;font-family:Menlo,'DejaVu Sans Mono',consolas,'Courier New',monospace\"><span style=\"font-weight: bold\"> Total params: </span><span style=\"color: #00af00; text-decoration-color: #00af00\">34,177</span> (133.50 KB)\n",
              "</pre>\n"
            ]
          },
          "metadata": {}
        },
        {
          "output_type": "display_data",
          "data": {
            "text/plain": [
              "\u001b[1m Trainable params: \u001b[0m\u001b[38;5;34m34,177\u001b[0m (133.50 KB)\n"
            ],
            "text/html": [
              "<pre style=\"white-space:pre;overflow-x:auto;line-height:normal;font-family:Menlo,'DejaVu Sans Mono',consolas,'Courier New',monospace\"><span style=\"font-weight: bold\"> Trainable params: </span><span style=\"color: #00af00; text-decoration-color: #00af00\">34,177</span> (133.50 KB)\n",
              "</pre>\n"
            ]
          },
          "metadata": {}
        },
        {
          "output_type": "display_data",
          "data": {
            "text/plain": [
              "\u001b[1m Non-trainable params: \u001b[0m\u001b[38;5;34m0\u001b[0m (0.00 B)\n"
            ],
            "text/html": [
              "<pre style=\"white-space:pre;overflow-x:auto;line-height:normal;font-family:Menlo,'DejaVu Sans Mono',consolas,'Courier New',monospace\"><span style=\"font-weight: bold\"> Non-trainable params: </span><span style=\"color: #00af00; text-decoration-color: #00af00\">0</span> (0.00 B)\n",
              "</pre>\n"
            ]
          },
          "metadata": {}
        }
      ]
    },
    {
      "cell_type": "markdown",
      "source": [
        "### Or: Shortcut, lazy, not recommended (I feel shame cuz even I do this sometimes)"
      ],
      "metadata": {
        "id": "ehY3qCYGb_GB"
      }
    },
    {
      "cell_type": "code",
      "source": [
        "model2 = Sequential([\n",
        "  # Hidden layers\n",
        "  Dense(128, activation='relu', input_shape=(X_train1.shape[1],)),   # Input layer + 1st hidden layer\n",
        "  Dense(128, activation='relu'),                                    # 2nd hidden layer\n",
        "  Dense(128, activation='relu'),                                    # 3rd hidden layer\n",
        "\n",
        "  # Output layer\n",
        "  Dense(1, activation='linear')\n",
        "])\n",
        "\n",
        "# Compile the model\n",
        "model2.compile(optimizer='sgd', loss='mse', metrics=['mae'])\n",
        "\n",
        "model2.summary()"
      ],
      "metadata": {
        "colab": {
          "base_uri": "https://localhost:8080/",
          "height": 327
        },
        "id": "c6BBIheCcP46",
        "outputId": "91a51547-4522-41fd-be4c-7459705242ec"
      },
      "execution_count": 11,
      "outputs": [
        {
          "output_type": "stream",
          "name": "stderr",
          "text": [
            "/usr/local/lib/python3.11/dist-packages/keras/src/layers/core/dense.py:87: UserWarning: Do not pass an `input_shape`/`input_dim` argument to a layer. When using Sequential models, prefer using an `Input(shape)` object as the first layer in the model instead.\n",
            "  super().__init__(activity_regularizer=activity_regularizer, **kwargs)\n"
          ]
        },
        {
          "output_type": "display_data",
          "data": {
            "text/plain": [
              "\u001b[1mModel: \"sequential\"\u001b[0m\n"
            ],
            "text/html": [
              "<pre style=\"white-space:pre;overflow-x:auto;line-height:normal;font-family:Menlo,'DejaVu Sans Mono',consolas,'Courier New',monospace\"><span style=\"font-weight: bold\">Model: \"sequential\"</span>\n",
              "</pre>\n"
            ]
          },
          "metadata": {}
        },
        {
          "output_type": "display_data",
          "data": {
            "text/plain": [
              "┏━━━━━━━━━━━━━━━━━━━━━━━━━━━━━━━━━━━━━━┳━━━━━━━━━━━━━━━━━━━━━━━━━━━━━┳━━━━━━━━━━━━━━━━━┓\n",
              "┃\u001b[1m \u001b[0m\u001b[1mLayer (type)                        \u001b[0m\u001b[1m \u001b[0m┃\u001b[1m \u001b[0m\u001b[1mOutput Shape               \u001b[0m\u001b[1m \u001b[0m┃\u001b[1m \u001b[0m\u001b[1m        Param #\u001b[0m\u001b[1m \u001b[0m┃\n",
              "┡━━━━━━━━━━━━━━━━━━━━━━━━━━━━━━━━━━━━━━╇━━━━━━━━━━━━━━━━━━━━━━━━━━━━━╇━━━━━━━━━━━━━━━━━┩\n",
              "│ dense_4 (\u001b[38;5;33mDense\u001b[0m)                      │ (\u001b[38;5;45mNone\u001b[0m, \u001b[38;5;34m128\u001b[0m)                 │           \u001b[38;5;34m1,024\u001b[0m │\n",
              "├──────────────────────────────────────┼─────────────────────────────┼─────────────────┤\n",
              "│ dense_5 (\u001b[38;5;33mDense\u001b[0m)                      │ (\u001b[38;5;45mNone\u001b[0m, \u001b[38;5;34m128\u001b[0m)                 │          \u001b[38;5;34m16,512\u001b[0m │\n",
              "├──────────────────────────────────────┼─────────────────────────────┼─────────────────┤\n",
              "│ dense_6 (\u001b[38;5;33mDense\u001b[0m)                      │ (\u001b[38;5;45mNone\u001b[0m, \u001b[38;5;34m128\u001b[0m)                 │          \u001b[38;5;34m16,512\u001b[0m │\n",
              "├──────────────────────────────────────┼─────────────────────────────┼─────────────────┤\n",
              "│ dense_7 (\u001b[38;5;33mDense\u001b[0m)                      │ (\u001b[38;5;45mNone\u001b[0m, \u001b[38;5;34m1\u001b[0m)                   │             \u001b[38;5;34m129\u001b[0m │\n",
              "└──────────────────────────────────────┴─────────────────────────────┴─────────────────┘\n"
            ],
            "text/html": [
              "<pre style=\"white-space:pre;overflow-x:auto;line-height:normal;font-family:Menlo,'DejaVu Sans Mono',consolas,'Courier New',monospace\">┏━━━━━━━━━━━━━━━━━━━━━━━━━━━━━━━━━━━━━━┳━━━━━━━━━━━━━━━━━━━━━━━━━━━━━┳━━━━━━━━━━━━━━━━━┓\n",
              "┃<span style=\"font-weight: bold\"> Layer (type)                         </span>┃<span style=\"font-weight: bold\"> Output Shape                </span>┃<span style=\"font-weight: bold\">         Param # </span>┃\n",
              "┡━━━━━━━━━━━━━━━━━━━━━━━━━━━━━━━━━━━━━━╇━━━━━━━━━━━━━━━━━━━━━━━━━━━━━╇━━━━━━━━━━━━━━━━━┩\n",
              "│ dense_4 (<span style=\"color: #0087ff; text-decoration-color: #0087ff\">Dense</span>)                      │ (<span style=\"color: #00d7ff; text-decoration-color: #00d7ff\">None</span>, <span style=\"color: #00af00; text-decoration-color: #00af00\">128</span>)                 │           <span style=\"color: #00af00; text-decoration-color: #00af00\">1,024</span> │\n",
              "├──────────────────────────────────────┼─────────────────────────────┼─────────────────┤\n",
              "│ dense_5 (<span style=\"color: #0087ff; text-decoration-color: #0087ff\">Dense</span>)                      │ (<span style=\"color: #00d7ff; text-decoration-color: #00d7ff\">None</span>, <span style=\"color: #00af00; text-decoration-color: #00af00\">128</span>)                 │          <span style=\"color: #00af00; text-decoration-color: #00af00\">16,512</span> │\n",
              "├──────────────────────────────────────┼─────────────────────────────┼─────────────────┤\n",
              "│ dense_6 (<span style=\"color: #0087ff; text-decoration-color: #0087ff\">Dense</span>)                      │ (<span style=\"color: #00d7ff; text-decoration-color: #00d7ff\">None</span>, <span style=\"color: #00af00; text-decoration-color: #00af00\">128</span>)                 │          <span style=\"color: #00af00; text-decoration-color: #00af00\">16,512</span> │\n",
              "├──────────────────────────────────────┼─────────────────────────────┼─────────────────┤\n",
              "│ dense_7 (<span style=\"color: #0087ff; text-decoration-color: #0087ff\">Dense</span>)                      │ (<span style=\"color: #00d7ff; text-decoration-color: #00d7ff\">None</span>, <span style=\"color: #00af00; text-decoration-color: #00af00\">1</span>)                   │             <span style=\"color: #00af00; text-decoration-color: #00af00\">129</span> │\n",
              "└──────────────────────────────────────┴─────────────────────────────┴─────────────────┘\n",
              "</pre>\n"
            ]
          },
          "metadata": {}
        },
        {
          "output_type": "display_data",
          "data": {
            "text/plain": [
              "\u001b[1m Total params: \u001b[0m\u001b[38;5;34m34,177\u001b[0m (133.50 KB)\n"
            ],
            "text/html": [
              "<pre style=\"white-space:pre;overflow-x:auto;line-height:normal;font-family:Menlo,'DejaVu Sans Mono',consolas,'Courier New',monospace\"><span style=\"font-weight: bold\"> Total params: </span><span style=\"color: #00af00; text-decoration-color: #00af00\">34,177</span> (133.50 KB)\n",
              "</pre>\n"
            ]
          },
          "metadata": {}
        },
        {
          "output_type": "display_data",
          "data": {
            "text/plain": [
              "\u001b[1m Trainable params: \u001b[0m\u001b[38;5;34m34,177\u001b[0m (133.50 KB)\n"
            ],
            "text/html": [
              "<pre style=\"white-space:pre;overflow-x:auto;line-height:normal;font-family:Menlo,'DejaVu Sans Mono',consolas,'Courier New',monospace\"><span style=\"font-weight: bold\"> Trainable params: </span><span style=\"color: #00af00; text-decoration-color: #00af00\">34,177</span> (133.50 KB)\n",
              "</pre>\n"
            ]
          },
          "metadata": {}
        },
        {
          "output_type": "display_data",
          "data": {
            "text/plain": [
              "\u001b[1m Non-trainable params: \u001b[0m\u001b[38;5;34m0\u001b[0m (0.00 B)\n"
            ],
            "text/html": [
              "<pre style=\"white-space:pre;overflow-x:auto;line-height:normal;font-family:Menlo,'DejaVu Sans Mono',consolas,'Courier New',monospace\"><span style=\"font-weight: bold\"> Non-trainable params: </span><span style=\"color: #00af00; text-decoration-color: #00af00\">0</span> (0.00 B)\n",
              "</pre>\n"
            ]
          },
          "metadata": {}
        }
      ]
    },
    {
      "cell_type": "markdown",
      "source": [
        "### Or: TensorFlow documentation way"
      ],
      "metadata": {
        "id": "RoA7i_-MdNMH"
      }
    },
    {
      "cell_type": "code",
      "source": [
        "model3 = Sequential(layers=None, trainable=True, name='Multi-layer_Perceptron')\n",
        "\n",
        "# Add input layer\n",
        "model3.add(Input(shape=(X_train1.shape[1],)))\n",
        "\n",
        "# Add 3 hidden layers\n",
        "model3.add(Dense(128, activation='relu'))\n",
        "model3.add(Dense(128, activation='relu'))\n",
        "model3.add(Dense(128, activation='relu'))\n",
        "\n",
        "# Add output layer\n",
        "model3.add(Dense(1, activation='linear'))\n",
        "\n",
        "# Compile the model\n",
        "model3.compile(optimizer='sgd', loss='mse', metrics=['mae'])\n",
        "\n",
        "model3.summary()"
      ],
      "metadata": {
        "colab": {
          "base_uri": "https://localhost:8080/",
          "height": 272
        },
        "id": "5tOfHw4EdeJh",
        "outputId": "c6108b9b-20ca-43b4-8bf6-535023887fb2"
      },
      "execution_count": 12,
      "outputs": [
        {
          "output_type": "display_data",
          "data": {
            "text/plain": [
              "\u001b[1mModel: \"Multi-layer_Perceptron\"\u001b[0m\n"
            ],
            "text/html": [
              "<pre style=\"white-space:pre;overflow-x:auto;line-height:normal;font-family:Menlo,'DejaVu Sans Mono',consolas,'Courier New',monospace\"><span style=\"font-weight: bold\">Model: \"Multi-layer_Perceptron\"</span>\n",
              "</pre>\n"
            ]
          },
          "metadata": {}
        },
        {
          "output_type": "display_data",
          "data": {
            "text/plain": [
              "┏━━━━━━━━━━━━━━━━━━━━━━━━━━━━━━━━━━━━━━┳━━━━━━━━━━━━━━━━━━━━━━━━━━━━━┳━━━━━━━━━━━━━━━━━┓\n",
              "┃\u001b[1m \u001b[0m\u001b[1mLayer (type)                        \u001b[0m\u001b[1m \u001b[0m┃\u001b[1m \u001b[0m\u001b[1mOutput Shape               \u001b[0m\u001b[1m \u001b[0m┃\u001b[1m \u001b[0m\u001b[1m        Param #\u001b[0m\u001b[1m \u001b[0m┃\n",
              "┡━━━━━━━━━━━━━━━━━━━━━━━━━━━━━━━━━━━━━━╇━━━━━━━━━━━━━━━━━━━━━━━━━━━━━╇━━━━━━━━━━━━━━━━━┩\n",
              "│ dense_8 (\u001b[38;5;33mDense\u001b[0m)                      │ (\u001b[38;5;45mNone\u001b[0m, \u001b[38;5;34m128\u001b[0m)                 │           \u001b[38;5;34m1,024\u001b[0m │\n",
              "├──────────────────────────────────────┼─────────────────────────────┼─────────────────┤\n",
              "│ dense_9 (\u001b[38;5;33mDense\u001b[0m)                      │ (\u001b[38;5;45mNone\u001b[0m, \u001b[38;5;34m128\u001b[0m)                 │          \u001b[38;5;34m16,512\u001b[0m │\n",
              "├──────────────────────────────────────┼─────────────────────────────┼─────────────────┤\n",
              "│ dense_10 (\u001b[38;5;33mDense\u001b[0m)                     │ (\u001b[38;5;45mNone\u001b[0m, \u001b[38;5;34m128\u001b[0m)                 │          \u001b[38;5;34m16,512\u001b[0m │\n",
              "├──────────────────────────────────────┼─────────────────────────────┼─────────────────┤\n",
              "│ dense_11 (\u001b[38;5;33mDense\u001b[0m)                     │ (\u001b[38;5;45mNone\u001b[0m, \u001b[38;5;34m1\u001b[0m)                   │             \u001b[38;5;34m129\u001b[0m │\n",
              "└──────────────────────────────────────┴─────────────────────────────┴─────────────────┘\n"
            ],
            "text/html": [
              "<pre style=\"white-space:pre;overflow-x:auto;line-height:normal;font-family:Menlo,'DejaVu Sans Mono',consolas,'Courier New',monospace\">┏━━━━━━━━━━━━━━━━━━━━━━━━━━━━━━━━━━━━━━┳━━━━━━━━━━━━━━━━━━━━━━━━━━━━━┳━━━━━━━━━━━━━━━━━┓\n",
              "┃<span style=\"font-weight: bold\"> Layer (type)                         </span>┃<span style=\"font-weight: bold\"> Output Shape                </span>┃<span style=\"font-weight: bold\">         Param # </span>┃\n",
              "┡━━━━━━━━━━━━━━━━━━━━━━━━━━━━━━━━━━━━━━╇━━━━━━━━━━━━━━━━━━━━━━━━━━━━━╇━━━━━━━━━━━━━━━━━┩\n",
              "│ dense_8 (<span style=\"color: #0087ff; text-decoration-color: #0087ff\">Dense</span>)                      │ (<span style=\"color: #00d7ff; text-decoration-color: #00d7ff\">None</span>, <span style=\"color: #00af00; text-decoration-color: #00af00\">128</span>)                 │           <span style=\"color: #00af00; text-decoration-color: #00af00\">1,024</span> │\n",
              "├──────────────────────────────────────┼─────────────────────────────┼─────────────────┤\n",
              "│ dense_9 (<span style=\"color: #0087ff; text-decoration-color: #0087ff\">Dense</span>)                      │ (<span style=\"color: #00d7ff; text-decoration-color: #00d7ff\">None</span>, <span style=\"color: #00af00; text-decoration-color: #00af00\">128</span>)                 │          <span style=\"color: #00af00; text-decoration-color: #00af00\">16,512</span> │\n",
              "├──────────────────────────────────────┼─────────────────────────────┼─────────────────┤\n",
              "│ dense_10 (<span style=\"color: #0087ff; text-decoration-color: #0087ff\">Dense</span>)                     │ (<span style=\"color: #00d7ff; text-decoration-color: #00d7ff\">None</span>, <span style=\"color: #00af00; text-decoration-color: #00af00\">128</span>)                 │          <span style=\"color: #00af00; text-decoration-color: #00af00\">16,512</span> │\n",
              "├──────────────────────────────────────┼─────────────────────────────┼─────────────────┤\n",
              "│ dense_11 (<span style=\"color: #0087ff; text-decoration-color: #0087ff\">Dense</span>)                     │ (<span style=\"color: #00d7ff; text-decoration-color: #00d7ff\">None</span>, <span style=\"color: #00af00; text-decoration-color: #00af00\">1</span>)                   │             <span style=\"color: #00af00; text-decoration-color: #00af00\">129</span> │\n",
              "└──────────────────────────────────────┴─────────────────────────────┴─────────────────┘\n",
              "</pre>\n"
            ]
          },
          "metadata": {}
        },
        {
          "output_type": "display_data",
          "data": {
            "text/plain": [
              "\u001b[1m Total params: \u001b[0m\u001b[38;5;34m34,177\u001b[0m (133.50 KB)\n"
            ],
            "text/html": [
              "<pre style=\"white-space:pre;overflow-x:auto;line-height:normal;font-family:Menlo,'DejaVu Sans Mono',consolas,'Courier New',monospace\"><span style=\"font-weight: bold\"> Total params: </span><span style=\"color: #00af00; text-decoration-color: #00af00\">34,177</span> (133.50 KB)\n",
              "</pre>\n"
            ]
          },
          "metadata": {}
        },
        {
          "output_type": "display_data",
          "data": {
            "text/plain": [
              "\u001b[1m Trainable params: \u001b[0m\u001b[38;5;34m34,177\u001b[0m (133.50 KB)\n"
            ],
            "text/html": [
              "<pre style=\"white-space:pre;overflow-x:auto;line-height:normal;font-family:Menlo,'DejaVu Sans Mono',consolas,'Courier New',monospace\"><span style=\"font-weight: bold\"> Trainable params: </span><span style=\"color: #00af00; text-decoration-color: #00af00\">34,177</span> (133.50 KB)\n",
              "</pre>\n"
            ]
          },
          "metadata": {}
        },
        {
          "output_type": "display_data",
          "data": {
            "text/plain": [
              "\u001b[1m Non-trainable params: \u001b[0m\u001b[38;5;34m0\u001b[0m (0.00 B)\n"
            ],
            "text/html": [
              "<pre style=\"white-space:pre;overflow-x:auto;line-height:normal;font-family:Menlo,'DejaVu Sans Mono',consolas,'Courier New',monospace\"><span style=\"font-weight: bold\"> Non-trainable params: </span><span style=\"color: #00af00; text-decoration-color: #00af00\">0</span> (0.00 B)\n",
              "</pre>\n"
            ]
          },
          "metadata": {}
        }
      ]
    },
    {
      "cell_type": "markdown",
      "source": [
        "### Or: Oldschool TensorFlow"
      ],
      "metadata": {
        "id": "zInYeFi7eIwO"
      }
    },
    {
      "cell_type": "code",
      "source": [
        "# Input layer\n",
        "inputs = Input(shape=(X_train1.shape[1],))\n",
        "\n",
        "# 3 hidden layers\n",
        "x = Dense(128, activation='relu')(inputs)\n",
        "x = Dense(128, activation='relu')(x)\n",
        "x = Dense(128, activation='relu')(x)\n",
        "\n",
        "# Output layer\n",
        "outputs = Dense(1, activation='linear')(x)\n",
        "\n",
        "# Create the model\n",
        "model4 = Model(inputs=inputs, outputs=outputs)\n",
        "\n",
        "# Compile the model\n",
        "model4.compile(optimizer='sgd', loss='mse', metrics=['mae'])\n",
        "\n",
        "model4.summary()"
      ],
      "metadata": {
        "colab": {
          "base_uri": "https://localhost:8080/",
          "height": 306
        },
        "id": "kImY5sE3eOWe",
        "outputId": "8e666ebb-d020-490a-fed8-a499ad06e272"
      },
      "execution_count": 13,
      "outputs": [
        {
          "output_type": "display_data",
          "data": {
            "text/plain": [
              "\u001b[1mModel: \"functional_6\"\u001b[0m\n"
            ],
            "text/html": [
              "<pre style=\"white-space:pre;overflow-x:auto;line-height:normal;font-family:Menlo,'DejaVu Sans Mono',consolas,'Courier New',monospace\"><span style=\"font-weight: bold\">Model: \"functional_6\"</span>\n",
              "</pre>\n"
            ]
          },
          "metadata": {}
        },
        {
          "output_type": "display_data",
          "data": {
            "text/plain": [
              "┏━━━━━━━━━━━━━━━━━━━━━━━━━━━━━━━━━━━━━━┳━━━━━━━━━━━━━━━━━━━━━━━━━━━━━┳━━━━━━━━━━━━━━━━━┓\n",
              "┃\u001b[1m \u001b[0m\u001b[1mLayer (type)                        \u001b[0m\u001b[1m \u001b[0m┃\u001b[1m \u001b[0m\u001b[1mOutput Shape               \u001b[0m\u001b[1m \u001b[0m┃\u001b[1m \u001b[0m\u001b[1m        Param #\u001b[0m\u001b[1m \u001b[0m┃\n",
              "┡━━━━━━━━━━━━━━━━━━━━━━━━━━━━━━━━━━━━━━╇━━━━━━━━━━━━━━━━━━━━━━━━━━━━━╇━━━━━━━━━━━━━━━━━┩\n",
              "│ input_layer_3 (\u001b[38;5;33mInputLayer\u001b[0m)           │ (\u001b[38;5;45mNone\u001b[0m, \u001b[38;5;34m7\u001b[0m)                   │               \u001b[38;5;34m0\u001b[0m │\n",
              "├──────────────────────────────────────┼─────────────────────────────┼─────────────────┤\n",
              "│ dense_12 (\u001b[38;5;33mDense\u001b[0m)                     │ (\u001b[38;5;45mNone\u001b[0m, \u001b[38;5;34m128\u001b[0m)                 │           \u001b[38;5;34m1,024\u001b[0m │\n",
              "├──────────────────────────────────────┼─────────────────────────────┼─────────────────┤\n",
              "│ dense_13 (\u001b[38;5;33mDense\u001b[0m)                     │ (\u001b[38;5;45mNone\u001b[0m, \u001b[38;5;34m128\u001b[0m)                 │          \u001b[38;5;34m16,512\u001b[0m │\n",
              "├──────────────────────────────────────┼─────────────────────────────┼─────────────────┤\n",
              "│ dense_14 (\u001b[38;5;33mDense\u001b[0m)                     │ (\u001b[38;5;45mNone\u001b[0m, \u001b[38;5;34m128\u001b[0m)                 │          \u001b[38;5;34m16,512\u001b[0m │\n",
              "├──────────────────────────────────────┼─────────────────────────────┼─────────────────┤\n",
              "│ dense_15 (\u001b[38;5;33mDense\u001b[0m)                     │ (\u001b[38;5;45mNone\u001b[0m, \u001b[38;5;34m1\u001b[0m)                   │             \u001b[38;5;34m129\u001b[0m │\n",
              "└──────────────────────────────────────┴─────────────────────────────┴─────────────────┘\n"
            ],
            "text/html": [
              "<pre style=\"white-space:pre;overflow-x:auto;line-height:normal;font-family:Menlo,'DejaVu Sans Mono',consolas,'Courier New',monospace\">┏━━━━━━━━━━━━━━━━━━━━━━━━━━━━━━━━━━━━━━┳━━━━━━━━━━━━━━━━━━━━━━━━━━━━━┳━━━━━━━━━━━━━━━━━┓\n",
              "┃<span style=\"font-weight: bold\"> Layer (type)                         </span>┃<span style=\"font-weight: bold\"> Output Shape                </span>┃<span style=\"font-weight: bold\">         Param # </span>┃\n",
              "┡━━━━━━━━━━━━━━━━━━━━━━━━━━━━━━━━━━━━━━╇━━━━━━━━━━━━━━━━━━━━━━━━━━━━━╇━━━━━━━━━━━━━━━━━┩\n",
              "│ input_layer_3 (<span style=\"color: #0087ff; text-decoration-color: #0087ff\">InputLayer</span>)           │ (<span style=\"color: #00d7ff; text-decoration-color: #00d7ff\">None</span>, <span style=\"color: #00af00; text-decoration-color: #00af00\">7</span>)                   │               <span style=\"color: #00af00; text-decoration-color: #00af00\">0</span> │\n",
              "├──────────────────────────────────────┼─────────────────────────────┼─────────────────┤\n",
              "│ dense_12 (<span style=\"color: #0087ff; text-decoration-color: #0087ff\">Dense</span>)                     │ (<span style=\"color: #00d7ff; text-decoration-color: #00d7ff\">None</span>, <span style=\"color: #00af00; text-decoration-color: #00af00\">128</span>)                 │           <span style=\"color: #00af00; text-decoration-color: #00af00\">1,024</span> │\n",
              "├──────────────────────────────────────┼─────────────────────────────┼─────────────────┤\n",
              "│ dense_13 (<span style=\"color: #0087ff; text-decoration-color: #0087ff\">Dense</span>)                     │ (<span style=\"color: #00d7ff; text-decoration-color: #00d7ff\">None</span>, <span style=\"color: #00af00; text-decoration-color: #00af00\">128</span>)                 │          <span style=\"color: #00af00; text-decoration-color: #00af00\">16,512</span> │\n",
              "├──────────────────────────────────────┼─────────────────────────────┼─────────────────┤\n",
              "│ dense_14 (<span style=\"color: #0087ff; text-decoration-color: #0087ff\">Dense</span>)                     │ (<span style=\"color: #00d7ff; text-decoration-color: #00d7ff\">None</span>, <span style=\"color: #00af00; text-decoration-color: #00af00\">128</span>)                 │          <span style=\"color: #00af00; text-decoration-color: #00af00\">16,512</span> │\n",
              "├──────────────────────────────────────┼─────────────────────────────┼─────────────────┤\n",
              "│ dense_15 (<span style=\"color: #0087ff; text-decoration-color: #0087ff\">Dense</span>)                     │ (<span style=\"color: #00d7ff; text-decoration-color: #00d7ff\">None</span>, <span style=\"color: #00af00; text-decoration-color: #00af00\">1</span>)                   │             <span style=\"color: #00af00; text-decoration-color: #00af00\">129</span> │\n",
              "└──────────────────────────────────────┴─────────────────────────────┴─────────────────┘\n",
              "</pre>\n"
            ]
          },
          "metadata": {}
        },
        {
          "output_type": "display_data",
          "data": {
            "text/plain": [
              "\u001b[1m Total params: \u001b[0m\u001b[38;5;34m34,177\u001b[0m (133.50 KB)\n"
            ],
            "text/html": [
              "<pre style=\"white-space:pre;overflow-x:auto;line-height:normal;font-family:Menlo,'DejaVu Sans Mono',consolas,'Courier New',monospace\"><span style=\"font-weight: bold\"> Total params: </span><span style=\"color: #00af00; text-decoration-color: #00af00\">34,177</span> (133.50 KB)\n",
              "</pre>\n"
            ]
          },
          "metadata": {}
        },
        {
          "output_type": "display_data",
          "data": {
            "text/plain": [
              "\u001b[1m Trainable params: \u001b[0m\u001b[38;5;34m34,177\u001b[0m (133.50 KB)\n"
            ],
            "text/html": [
              "<pre style=\"white-space:pre;overflow-x:auto;line-height:normal;font-family:Menlo,'DejaVu Sans Mono',consolas,'Courier New',monospace\"><span style=\"font-weight: bold\"> Trainable params: </span><span style=\"color: #00af00; text-decoration-color: #00af00\">34,177</span> (133.50 KB)\n",
              "</pre>\n"
            ]
          },
          "metadata": {}
        },
        {
          "output_type": "display_data",
          "data": {
            "text/plain": [
              "\u001b[1m Non-trainable params: \u001b[0m\u001b[38;5;34m0\u001b[0m (0.00 B)\n"
            ],
            "text/html": [
              "<pre style=\"white-space:pre;overflow-x:auto;line-height:normal;font-family:Menlo,'DejaVu Sans Mono',consolas,'Courier New',monospace\"><span style=\"font-weight: bold\"> Non-trainable params: </span><span style=\"color: #00af00; text-decoration-color: #00af00\">0</span> (0.00 B)\n",
              "</pre>\n"
            ]
          },
          "metadata": {}
        }
      ]
    },
    {
      "cell_type": "markdown",
      "source": [
        "### I recommend this way (it's cleaner with more complex model architecture)"
      ],
      "metadata": {
        "id": "a9QlNRvkfD-s"
      }
    },
    {
      "cell_type": "code",
      "source": [
        "import json\n",
        "with open('mlp_module.json', 'r') as f:\n",
        "  module = json.load(f)"
      ],
      "metadata": {
        "id": "Z9_-H2bMi3JI"
      },
      "execution_count": 14,
      "outputs": []
    },
    {
      "cell_type": "code",
      "source": [
        "class MLP:\n",
        "  def __init__(self, model_module: dict) -> None:\n",
        "    \"\"\" Initialization\n",
        "\n",
        "    Args:\n",
        "      model_module (dict): A dictionary containing the model hyperparameters\n",
        "    Returns:\n",
        "      (None)\n",
        "    \"\"\"\n",
        "    self.module = model_module\n",
        "\n",
        "    # Build Neural Network\n",
        "    self.model = self.build_mlp()\n",
        "\n",
        "    # Compile the model\n",
        "    self.model.compile(optimizer=tf.keras.optimizers.Adam(learning_rate=0.0001), loss='mse')\n",
        "\n",
        "  def build_mlp(self) -> Sequential:\n",
        "    \"\"\" Build the MLP model\n",
        "\n",
        "    Args:\n",
        "      (None)\n",
        "    Returns:\n",
        "      (tf.keras.models.Sequential): A fully connected neural network - MLP model\n",
        "    \"\"\"\n",
        "\n",
        "    def build_block(model: Sequential, module: dict) -> None:\n",
        "      \"\"\" Build a block/hidden-layer of the MLP model\n",
        "\n",
        "      Args:\n",
        "        model (tf.keras.models.Sequential): An under-construction neural network\n",
        "        module (dict): A dictionary containing the model hyperparameters\n",
        "      Returns:\n",
        "        (tf.keras.models.Sequential): A neural network with Input and Hidden layers\n",
        "      \"\"\"\n",
        "\n",
        "      model.add(\n",
        "          Dense(\n",
        "              units=self.module['hidden_layer']['num_nodes'],\n",
        "              activation=self.module['hidden_layer']['activation']\n",
        "          )\n",
        "      )\n",
        "\n",
        "    model = Sequential(layers=None, trainable=True, name='Multi-layer_Perceptron')\n",
        "\n",
        "    # Input layer\n",
        "    input_shape = X_train1.shape[1] if module['input_layer']['shape'] == \"None\" else module['input_layer']['shape']\n",
        "    model.add(Input(shape=(input_shape,)))\n",
        "\n",
        "    # Hidden layers\n",
        "    for _ in range(self.module['hidden_layer']['num_layers']):\n",
        "      build_block(model, self.module)\n",
        "\n",
        "    # Output layer\n",
        "    model.add(Dense(1, activation='linear'))\n",
        "\n",
        "    return model\n",
        "\n",
        "mlp = MLP(module)\n",
        "mlp.model.summary()"
      ],
      "metadata": {
        "colab": {
          "base_uri": "https://localhost:8080/",
          "height": 272
        },
        "id": "GxwoAW9YfLF6",
        "outputId": "3b773cb8-d6fc-4bc5-abf0-0ceb89977f65"
      },
      "execution_count": 95,
      "outputs": [
        {
          "output_type": "display_data",
          "data": {
            "text/plain": [
              "\u001b[1mModel: \"Multi-layer_Perceptron\"\u001b[0m\n"
            ],
            "text/html": [
              "<pre style=\"white-space:pre;overflow-x:auto;line-height:normal;font-family:Menlo,'DejaVu Sans Mono',consolas,'Courier New',monospace\"><span style=\"font-weight: bold\">Model: \"Multi-layer_Perceptron\"</span>\n",
              "</pre>\n"
            ]
          },
          "metadata": {}
        },
        {
          "output_type": "display_data",
          "data": {
            "text/plain": [
              "┏━━━━━━━━━━━━━━━━━━━━━━━━━━━━━━━━━━━━━━┳━━━━━━━━━━━━━━━━━━━━━━━━━━━━━┳━━━━━━━━━━━━━━━━━┓\n",
              "┃\u001b[1m \u001b[0m\u001b[1mLayer (type)                        \u001b[0m\u001b[1m \u001b[0m┃\u001b[1m \u001b[0m\u001b[1mOutput Shape               \u001b[0m\u001b[1m \u001b[0m┃\u001b[1m \u001b[0m\u001b[1m        Param #\u001b[0m\u001b[1m \u001b[0m┃\n",
              "┡━━━━━━━━━━━━━━━━━━━━━━━━━━━━━━━━━━━━━━╇━━━━━━━━━━━━━━━━━━━━━━━━━━━━━╇━━━━━━━━━━━━━━━━━┩\n",
              "│ dense_88 (\u001b[38;5;33mDense\u001b[0m)                     │ (\u001b[38;5;45mNone\u001b[0m, \u001b[38;5;34m128\u001b[0m)                 │           \u001b[38;5;34m1,024\u001b[0m │\n",
              "├──────────────────────────────────────┼─────────────────────────────┼─────────────────┤\n",
              "│ dense_89 (\u001b[38;5;33mDense\u001b[0m)                     │ (\u001b[38;5;45mNone\u001b[0m, \u001b[38;5;34m128\u001b[0m)                 │          \u001b[38;5;34m16,512\u001b[0m │\n",
              "├──────────────────────────────────────┼─────────────────────────────┼─────────────────┤\n",
              "│ dense_90 (\u001b[38;5;33mDense\u001b[0m)                     │ (\u001b[38;5;45mNone\u001b[0m, \u001b[38;5;34m128\u001b[0m)                 │          \u001b[38;5;34m16,512\u001b[0m │\n",
              "├──────────────────────────────────────┼─────────────────────────────┼─────────────────┤\n",
              "│ dense_91 (\u001b[38;5;33mDense\u001b[0m)                     │ (\u001b[38;5;45mNone\u001b[0m, \u001b[38;5;34m1\u001b[0m)                   │             \u001b[38;5;34m129\u001b[0m │\n",
              "└──────────────────────────────────────┴─────────────────────────────┴─────────────────┘\n"
            ],
            "text/html": [
              "<pre style=\"white-space:pre;overflow-x:auto;line-height:normal;font-family:Menlo,'DejaVu Sans Mono',consolas,'Courier New',monospace\">┏━━━━━━━━━━━━━━━━━━━━━━━━━━━━━━━━━━━━━━┳━━━━━━━━━━━━━━━━━━━━━━━━━━━━━┳━━━━━━━━━━━━━━━━━┓\n",
              "┃<span style=\"font-weight: bold\"> Layer (type)                         </span>┃<span style=\"font-weight: bold\"> Output Shape                </span>┃<span style=\"font-weight: bold\">         Param # </span>┃\n",
              "┡━━━━━━━━━━━━━━━━━━━━━━━━━━━━━━━━━━━━━━╇━━━━━━━━━━━━━━━━━━━━━━━━━━━━━╇━━━━━━━━━━━━━━━━━┩\n",
              "│ dense_88 (<span style=\"color: #0087ff; text-decoration-color: #0087ff\">Dense</span>)                     │ (<span style=\"color: #00d7ff; text-decoration-color: #00d7ff\">None</span>, <span style=\"color: #00af00; text-decoration-color: #00af00\">128</span>)                 │           <span style=\"color: #00af00; text-decoration-color: #00af00\">1,024</span> │\n",
              "├──────────────────────────────────────┼─────────────────────────────┼─────────────────┤\n",
              "│ dense_89 (<span style=\"color: #0087ff; text-decoration-color: #0087ff\">Dense</span>)                     │ (<span style=\"color: #00d7ff; text-decoration-color: #00d7ff\">None</span>, <span style=\"color: #00af00; text-decoration-color: #00af00\">128</span>)                 │          <span style=\"color: #00af00; text-decoration-color: #00af00\">16,512</span> │\n",
              "├──────────────────────────────────────┼─────────────────────────────┼─────────────────┤\n",
              "│ dense_90 (<span style=\"color: #0087ff; text-decoration-color: #0087ff\">Dense</span>)                     │ (<span style=\"color: #00d7ff; text-decoration-color: #00d7ff\">None</span>, <span style=\"color: #00af00; text-decoration-color: #00af00\">128</span>)                 │          <span style=\"color: #00af00; text-decoration-color: #00af00\">16,512</span> │\n",
              "├──────────────────────────────────────┼─────────────────────────────┼─────────────────┤\n",
              "│ dense_91 (<span style=\"color: #0087ff; text-decoration-color: #0087ff\">Dense</span>)                     │ (<span style=\"color: #00d7ff; text-decoration-color: #00d7ff\">None</span>, <span style=\"color: #00af00; text-decoration-color: #00af00\">1</span>)                   │             <span style=\"color: #00af00; text-decoration-color: #00af00\">129</span> │\n",
              "└──────────────────────────────────────┴─────────────────────────────┴─────────────────┘\n",
              "</pre>\n"
            ]
          },
          "metadata": {}
        },
        {
          "output_type": "display_data",
          "data": {
            "text/plain": [
              "\u001b[1m Total params: \u001b[0m\u001b[38;5;34m34,177\u001b[0m (133.50 KB)\n"
            ],
            "text/html": [
              "<pre style=\"white-space:pre;overflow-x:auto;line-height:normal;font-family:Menlo,'DejaVu Sans Mono',consolas,'Courier New',monospace\"><span style=\"font-weight: bold\"> Total params: </span><span style=\"color: #00af00; text-decoration-color: #00af00\">34,177</span> (133.50 KB)\n",
              "</pre>\n"
            ]
          },
          "metadata": {}
        },
        {
          "output_type": "display_data",
          "data": {
            "text/plain": [
              "\u001b[1m Trainable params: \u001b[0m\u001b[38;5;34m34,177\u001b[0m (133.50 KB)\n"
            ],
            "text/html": [
              "<pre style=\"white-space:pre;overflow-x:auto;line-height:normal;font-family:Menlo,'DejaVu Sans Mono',consolas,'Courier New',monospace\"><span style=\"font-weight: bold\"> Trainable params: </span><span style=\"color: #00af00; text-decoration-color: #00af00\">34,177</span> (133.50 KB)\n",
              "</pre>\n"
            ]
          },
          "metadata": {}
        },
        {
          "output_type": "display_data",
          "data": {
            "text/plain": [
              "\u001b[1m Non-trainable params: \u001b[0m\u001b[38;5;34m0\u001b[0m (0.00 B)\n"
            ],
            "text/html": [
              "<pre style=\"white-space:pre;overflow-x:auto;line-height:normal;font-family:Menlo,'DejaVu Sans Mono',consolas,'Courier New',monospace\"><span style=\"font-weight: bold\"> Non-trainable params: </span><span style=\"color: #00af00; text-decoration-color: #00af00\">0</span> (0.00 B)\n",
              "</pre>\n"
            ]
          },
          "metadata": {}
        }
      ]
    },
    {
      "cell_type": "code",
      "source": [
        "# Train the model\n",
        "history = mlp.model.fit(\n",
        "    x=X_train1,\n",
        "    y=y_train1,\n",
        "    epochs=100,\n",
        "    batch_size=8,\n",
        "    validation_split=0.2,\n",
        "    verbose=2,\n",
        "    callbacks=[tf.keras.callbacks.EarlyStopping(monitor='val_loss', patience=7, restore_best_weights=True)]\n",
        ")"
      ],
      "metadata": {
        "colab": {
          "base_uri": "https://localhost:8080/"
        },
        "id": "s7Y57iAlZKkv",
        "outputId": "0640e9a9-ee70-4d4d-dbec-0736c0fed885"
      },
      "execution_count": 96,
      "outputs": [
        {
          "output_type": "stream",
          "name": "stdout",
          "text": [
            "Epoch 1/100\n",
            "32/32 - 3s - 79ms/step - loss: 1840.9634 - val_loss: 476.8039\n",
            "Epoch 2/100\n",
            "32/32 - 0s - 5ms/step - loss: 226.5795 - val_loss: 219.3953\n",
            "Epoch 3/100\n",
            "32/32 - 0s - 10ms/step - loss: 170.7026 - val_loss: 195.1483\n",
            "Epoch 4/100\n",
            "32/32 - 0s - 5ms/step - loss: 152.9189 - val_loss: 171.4031\n",
            "Epoch 5/100\n",
            "32/32 - 0s - 9ms/step - loss: 138.8552 - val_loss: 185.6211\n",
            "Epoch 6/100\n",
            "32/32 - 0s - 10ms/step - loss: 146.0452 - val_loss: 163.0592\n",
            "Epoch 7/100\n",
            "32/32 - 0s - 8ms/step - loss: 134.1312 - val_loss: 151.2003\n",
            "Epoch 8/100\n",
            "32/32 - 0s - 6ms/step - loss: 134.8251 - val_loss: 149.4474\n",
            "Epoch 9/100\n",
            "32/32 - 0s - 10ms/step - loss: 126.4539 - val_loss: 155.7101\n",
            "Epoch 10/100\n",
            "32/32 - 0s - 5ms/step - loss: 123.5161 - val_loss: 221.4470\n",
            "Epoch 11/100\n",
            "32/32 - 0s - 9ms/step - loss: 126.0758 - val_loss: 159.9808\n",
            "Epoch 12/100\n",
            "32/32 - 0s - 10ms/step - loss: 146.1182 - val_loss: 205.6879\n",
            "Epoch 13/100\n",
            "32/32 - 0s - 10ms/step - loss: 120.1425 - val_loss: 117.6339\n",
            "Epoch 14/100\n",
            "32/32 - 0s - 5ms/step - loss: 114.8122 - val_loss: 116.4800\n",
            "Epoch 15/100\n",
            "32/32 - 0s - 9ms/step - loss: 113.1339 - val_loss: 171.2936\n",
            "Epoch 16/100\n",
            "32/32 - 0s - 9ms/step - loss: 113.9754 - val_loss: 125.4626\n",
            "Epoch 17/100\n",
            "32/32 - 0s - 6ms/step - loss: 145.4297 - val_loss: 112.2523\n",
            "Epoch 18/100\n",
            "32/32 - 0s - 5ms/step - loss: 125.1763 - val_loss: 103.7284\n",
            "Epoch 19/100\n",
            "32/32 - 0s - 9ms/step - loss: 103.0262 - val_loss: 100.2801\n",
            "Epoch 20/100\n",
            "32/32 - 0s - 10ms/step - loss: 91.4909 - val_loss: 160.9066\n",
            "Epoch 21/100\n",
            "32/32 - 0s - 5ms/step - loss: 126.2551 - val_loss: 106.8628\n",
            "Epoch 22/100\n",
            "32/32 - 0s - 6ms/step - loss: 90.6377 - val_loss: 92.6816\n",
            "Epoch 23/100\n",
            "32/32 - 0s - 5ms/step - loss: 85.3127 - val_loss: 88.5950\n",
            "Epoch 24/100\n",
            "32/32 - 0s - 5ms/step - loss: 92.5915 - val_loss: 89.7124\n",
            "Epoch 25/100\n",
            "32/32 - 0s - 5ms/step - loss: 106.7035 - val_loss: 111.1147\n",
            "Epoch 26/100\n",
            "32/32 - 0s - 10ms/step - loss: 138.4611 - val_loss: 159.5583\n",
            "Epoch 27/100\n",
            "32/32 - 0s - 5ms/step - loss: 81.3158 - val_loss: 86.7690\n",
            "Epoch 28/100\n",
            "32/32 - 0s - 5ms/step - loss: 125.9244 - val_loss: 107.3595\n",
            "Epoch 29/100\n",
            "32/32 - 0s - 5ms/step - loss: 82.4534 - val_loss: 78.0011\n",
            "Epoch 30/100\n",
            "32/32 - 0s - 5ms/step - loss: 80.5218 - val_loss: 106.9671\n",
            "Epoch 31/100\n",
            "32/32 - 0s - 10ms/step - loss: 75.7263 - val_loss: 73.0872\n",
            "Epoch 32/100\n",
            "32/32 - 0s - 8ms/step - loss: 90.4813 - val_loss: 81.1902\n",
            "Epoch 33/100\n",
            "32/32 - 0s - 9ms/step - loss: 79.0486 - val_loss: 93.0707\n",
            "Epoch 34/100\n",
            "32/32 - 0s - 6ms/step - loss: 69.8306 - val_loss: 62.4714\n",
            "Epoch 35/100\n",
            "32/32 - 0s - 9ms/step - loss: 79.4073 - val_loss: 70.9126\n",
            "Epoch 36/100\n",
            "32/32 - 0s - 5ms/step - loss: 64.6315 - val_loss: 59.3697\n",
            "Epoch 37/100\n",
            "32/32 - 0s - 9ms/step - loss: 64.6073 - val_loss: 57.4292\n",
            "Epoch 38/100\n",
            "32/32 - 0s - 5ms/step - loss: 86.8963 - val_loss: 63.0428\n",
            "Epoch 39/100\n",
            "32/32 - 0s - 9ms/step - loss: 65.6553 - val_loss: 61.2890\n",
            "Epoch 40/100\n",
            "32/32 - 0s - 10ms/step - loss: 59.9498 - val_loss: 117.0144\n",
            "Epoch 41/100\n",
            "32/32 - 0s - 9ms/step - loss: 73.7953 - val_loss: 60.7914\n",
            "Epoch 42/100\n",
            "32/32 - 1s - 16ms/step - loss: 83.9811 - val_loss: 54.9892\n",
            "Epoch 43/100\n",
            "32/32 - 1s - 16ms/step - loss: 65.9352 - val_loss: 52.7034\n",
            "Epoch 44/100\n",
            "32/32 - 0s - 10ms/step - loss: 57.6896 - val_loss: 56.7224\n",
            "Epoch 45/100\n",
            "32/32 - 0s - 10ms/step - loss: 74.0988 - val_loss: 64.8602\n",
            "Epoch 46/100\n",
            "32/32 - 0s - 8ms/step - loss: 57.0265 - val_loss: 51.6747\n",
            "Epoch 47/100\n",
            "32/32 - 0s - 8ms/step - loss: 53.1508 - val_loss: 48.8544\n",
            "Epoch 48/100\n",
            "32/32 - 0s - 9ms/step - loss: 54.9854 - val_loss: 48.2509\n",
            "Epoch 49/100\n",
            "32/32 - 0s - 7ms/step - loss: 73.1581 - val_loss: 44.9614\n",
            "Epoch 50/100\n",
            "32/32 - 0s - 9ms/step - loss: 56.6607 - val_loss: 42.8560\n",
            "Epoch 51/100\n",
            "32/32 - 0s - 11ms/step - loss: 57.1972 - val_loss: 41.8037\n",
            "Epoch 52/100\n",
            "32/32 - 0s - 5ms/step - loss: 50.9085 - val_loss: 45.6130\n",
            "Epoch 53/100\n",
            "32/32 - 0s - 10ms/step - loss: 41.6588 - val_loss: 44.5123\n",
            "Epoch 54/100\n",
            "32/32 - 0s - 8ms/step - loss: 43.6737 - val_loss: 52.9909\n",
            "Epoch 55/100\n",
            "32/32 - 0s - 5ms/step - loss: 59.5825 - val_loss: 60.4398\n",
            "Epoch 56/100\n",
            "32/32 - 0s - 6ms/step - loss: 51.0468 - val_loss: 131.7764\n",
            "Epoch 57/100\n",
            "32/32 - 0s - 5ms/step - loss: 76.1143 - val_loss: 36.1674\n",
            "Epoch 58/100\n",
            "32/32 - 0s - 5ms/step - loss: 45.4804 - val_loss: 35.8832\n",
            "Epoch 59/100\n",
            "32/32 - 0s - 9ms/step - loss: 45.6435 - val_loss: 38.5912\n",
            "Epoch 60/100\n",
            "32/32 - 0s - 5ms/step - loss: 37.6401 - val_loss: 45.1536\n",
            "Epoch 61/100\n",
            "32/32 - 0s - 6ms/step - loss: 59.2201 - val_loss: 248.1391\n",
            "Epoch 62/100\n",
            "32/32 - 0s - 5ms/step - loss: 68.0393 - val_loss: 41.6894\n",
            "Epoch 63/100\n",
            "32/32 - 0s - 10ms/step - loss: 45.7108 - val_loss: 33.1262\n",
            "Epoch 64/100\n",
            "32/32 - 0s - 9ms/step - loss: 36.5329 - val_loss: 31.8139\n",
            "Epoch 65/100\n",
            "32/32 - 0s - 9ms/step - loss: 33.6006 - val_loss: 30.1544\n",
            "Epoch 66/100\n",
            "32/32 - 0s - 10ms/step - loss: 33.5841 - val_loss: 30.3522\n",
            "Epoch 67/100\n",
            "32/32 - 0s - 8ms/step - loss: 31.9332 - val_loss: 29.6072\n",
            "Epoch 68/100\n",
            "32/32 - 0s - 10ms/step - loss: 50.9363 - val_loss: 26.7779\n",
            "Epoch 69/100\n",
            "32/32 - 0s - 9ms/step - loss: 43.4491 - val_loss: 52.4052\n",
            "Epoch 70/100\n",
            "32/32 - 0s - 5ms/step - loss: 33.0597 - val_loss: 25.0527\n",
            "Epoch 71/100\n",
            "32/32 - 0s - 10ms/step - loss: 28.8177 - val_loss: 24.4612\n",
            "Epoch 72/100\n",
            "32/32 - 0s - 9ms/step - loss: 29.8176 - val_loss: 32.8529\n",
            "Epoch 73/100\n",
            "32/32 - 0s - 5ms/step - loss: 29.4453 - val_loss: 26.9575\n",
            "Epoch 74/100\n",
            "32/32 - 0s - 9ms/step - loss: 28.8481 - val_loss: 35.5177\n",
            "Epoch 75/100\n",
            "32/32 - 0s - 10ms/step - loss: 29.4129 - val_loss: 89.6092\n",
            "Epoch 76/100\n",
            "32/32 - 0s - 11ms/step - loss: 29.4529 - val_loss: 26.4322\n",
            "Epoch 77/100\n",
            "32/32 - 0s - 5ms/step - loss: 35.8363 - val_loss: 33.4710\n",
            "Epoch 78/100\n",
            "32/32 - 0s - 10ms/step - loss: 26.7598 - val_loss: 22.3956\n",
            "Epoch 79/100\n",
            "32/32 - 0s - 5ms/step - loss: 23.3540 - val_loss: 66.9874\n",
            "Epoch 80/100\n",
            "32/32 - 0s - 6ms/step - loss: 27.2857 - val_loss: 42.7283\n",
            "Epoch 81/100\n",
            "32/32 - 0s - 8ms/step - loss: 28.1034 - val_loss: 34.9411\n",
            "Epoch 82/100\n",
            "32/32 - 0s - 5ms/step - loss: 28.0230 - val_loss: 18.7795\n",
            "Epoch 83/100\n",
            "32/32 - 0s - 5ms/step - loss: 20.2158 - val_loss: 25.5950\n",
            "Epoch 84/100\n",
            "32/32 - 0s - 10ms/step - loss: 27.5232 - val_loss: 19.0057\n",
            "Epoch 85/100\n",
            "32/32 - 0s - 5ms/step - loss: 33.9026 - val_loss: 31.6804\n",
            "Epoch 86/100\n",
            "32/32 - 0s - 9ms/step - loss: 26.8001 - val_loss: 20.2857\n",
            "Epoch 87/100\n",
            "32/32 - 0s - 10ms/step - loss: 25.7463 - val_loss: 18.4731\n",
            "Epoch 88/100\n",
            "32/32 - 0s - 12ms/step - loss: 22.3550 - val_loss: 55.8776\n",
            "Epoch 89/100\n",
            "32/32 - 0s - 10ms/step - loss: 36.7523 - val_loss: 115.6262\n",
            "Epoch 90/100\n",
            "32/32 - 0s - 8ms/step - loss: 35.6330 - val_loss: 16.6482\n",
            "Epoch 91/100\n",
            "32/32 - 0s - 10ms/step - loss: 18.4337 - val_loss: 59.1597\n",
            "Epoch 92/100\n",
            "32/32 - 0s - 9ms/step - loss: 28.4612 - val_loss: 18.2345\n",
            "Epoch 93/100\n",
            "32/32 - 0s - 10ms/step - loss: 19.1718 - val_loss: 26.5970\n",
            "Epoch 94/100\n",
            "32/32 - 0s - 11ms/step - loss: 37.8326 - val_loss: 17.0461\n",
            "Epoch 95/100\n",
            "32/32 - 0s - 9ms/step - loss: 30.4569 - val_loss: 30.3986\n",
            "Epoch 96/100\n",
            "32/32 - 0s - 6ms/step - loss: 33.4095 - val_loss: 84.4985\n",
            "Epoch 97/100\n",
            "32/32 - 0s - 9ms/step - loss: 32.0217 - val_loss: 17.9077\n"
          ]
        }
      ]
    },
    {
      "cell_type": "code",
      "source": [
        "# Evaluate the model\n",
        "loss = mlp.model.evaluate(X_test1, y_test1)"
      ],
      "metadata": {
        "colab": {
          "base_uri": "https://localhost:8080/"
        },
        "id": "HFxUKvTywNpZ",
        "outputId": "74bdbdf3-9a5f-4baf-dc52-a018db982703"
      },
      "execution_count": 97,
      "outputs": [
        {
          "output_type": "stream",
          "name": "stdout",
          "text": [
            "\u001b[1m3/3\u001b[0m \u001b[32m━━━━━━━━━━━━━━━━━━━━\u001b[0m\u001b[37m\u001b[0m \u001b[1m0s\u001b[0m 13ms/step - loss: 21.1263\n"
          ]
        }
      ]
    },
    {
      "cell_type": "code",
      "source": [
        "# Plot training & validation loss values\n",
        "plt.figure(figsize=(10, 5))\n",
        "plt.plot(history.history['loss'])\n",
        "plt.plot(history.history['val_loss'])\n",
        "plt.title('Model loss')\n",
        "plt.ylabel('Loss')\n",
        "plt.xlabel('Epoch')\n",
        "plt.legend(['Train', 'Validation'], loc='upper right')\n",
        "plt.show()\n"
      ],
      "metadata": {
        "colab": {
          "base_uri": "https://localhost:8080/",
          "height": 487
        },
        "id": "SK_sAGuE1SNF",
        "outputId": "bb7b85d1-672d-40c2-99a3-cc45db14699c"
      },
      "execution_count": 98,
      "outputs": [
        {
          "output_type": "display_data",
          "data": {
            "text/plain": [
              "<Figure size 1000x500 with 1 Axes>"
            ],
            "image/png": "[encoded data removed]"
          },
          "metadata": {}
        }
      ]
    },
    {
      "cell_type": "markdown",
      "source": [
        "### Prediction"
      ],
      "metadata": {
        "id": "cFQ9SWPz-u1W"
      }
    },
    {
      "cell_type": "code",
      "source": [
        "X_test1.head(5)"
      ],
      "metadata": {
        "colab": {
          "base_uri": "https://localhost:8080/",
          "height": 206
        },
        "id": "PAUC-jzp7cBp",
        "outputId": "e42233e9-33d8-4c0b-d423-36cb33132c6a"
      },
      "execution_count": 99,
      "outputs": [
        {
          "output_type": "execute_result",
          "data": {
            "text/plain": [
              "     Cylinders  Displacement  Horsepower  Weight  Acceleration  Model Year  \\\n",
              "249          8         260.0       110.0  3365.0          15.5          78   \n",
              "138          8         318.0       150.0  4457.0          13.5          74   \n",
              "292          8         360.0       150.0  3940.0          13.0          79   \n",
              "357          4         119.0       100.0  2615.0          14.8          81   \n",
              "25           8         360.0       215.0  4615.0          14.0          70   \n",
              "\n",
              "     Origin  \n",
              "249       1  \n",
              "138       1  \n",
              "292       1  \n",
              "357       3  \n",
              "25        1  "
            ],
            "text/html": [
              "\n",
              "  <div id=\"df-7a0a3d42-e3e2-45bc-9ee5-9037eea3b053\" class=\"colab-df-container\">\n",
              "    <div>\n",
              "<style scoped>\n",
              "    .dataframe tbody tr th:only-of-type {\n",
              "        vertical-align: middle;\n",
              "    }\n",
              "\n",
              "    .dataframe tbody tr th {\n",
              "        vertical-align: top;\n",
              "    }\n",
              "\n",
              "    .dataframe thead th {\n",
              "        text-align: right;\n",
              "    }\n",
              "</style>\n",
              "<table border=\"1\" class=\"dataframe\">\n",
              "  <thead>\n",
              "    <tr style=\"text-align: right;\">\n",
              "      <th></th>\n",
              "      <th>Cylinders</th>\n",
              "      <th>Displacement</th>\n",
              "      <th>Horsepower</th>\n",
              "      <th>Weight</th>\n",
              "      <th>Acceleration</th>\n",
              "      <th>Model Year</th>\n",
              "      <th>Origin</th>\n",
              "    </tr>\n",
              "  </thead>\n",
              "  <tbody>\n",
              "    <tr>\n",
              "      <th>249</th>\n",
              "      <td>8</td>\n",
              "      <td>260.0</td>\n",
              "      <td>110.0</td>\n",
              "      <td>3365.0</td>\n",
              "      <td>15.5</td>\n",
              "      <td>78</td>\n",
              "      <td>1</td>\n",
              "    </tr>\n",
              "    <tr>\n",
              "      <th>138</th>\n",
              "      <td>8</td>\n",
              "      <td>318.0</td>\n",
              "      <td>150.0</td>\n",
              "      <td>4457.0</td>\n",
              "      <td>13.5</td>\n",
              "      <td>74</td>\n",
              "      <td>1</td>\n",
              "    </tr>\n",
              "    <tr>\n",
              "      <th>292</th>\n",
              "      <td>8</td>\n",
              "      <td>360.0</td>\n",
              "      <td>150.0</td>\n",
              "      <td>3940.0</td>\n",
              "      <td>13.0</td>\n",
              "      <td>79</td>\n",
              "      <td>1</td>\n",
              "    </tr>\n",
              "    <tr>\n",
              "      <th>357</th>\n",
              "      <td>4</td>\n",
              "      <td>119.0</td>\n",
              "      <td>100.0</td>\n",
              "      <td>2615.0</td>\n",
              "      <td>14.8</td>\n",
              "      <td>81</td>\n",
              "      <td>3</td>\n",
              "    </tr>\n",
              "    <tr>\n",
              "      <th>25</th>\n",
              "      <td>8</td>\n",
              "      <td>360.0</td>\n",
              "      <td>215.0</td>\n",
              "      <td>4615.0</td>\n",
              "      <td>14.0</td>\n",
              "      <td>70</td>\n",
              "      <td>1</td>\n",
              "    </tr>\n",
              "  </tbody>\n",
              "</table>\n",
              "</div>\n",
              "    <div class=\"colab-df-buttons\">\n",
              "\n",
              "  <div class=\"colab-df-container\">\n",
              "    <button class=\"colab-df-convert\" onclick=\"convertToInteractive('df-7a0a3d42-e3e2-45bc-9ee5-9037eea3b053')\"\n",
              "            title=\"Convert this dataframe to an interactive table.\"\n",
              "            style=\"display:none;\">\n",
              "\n",
              "  <svg xmlns=\"http://www.w3.org/2000/svg\" height=\"24px\" viewBox=\"0 -960 960 960\">\n",
              "    <path d=\"M120-120v-720h720v720H120Zm60-500h600v-160H180v160Zm220 220h160v-160H400v160Zm0 220h160v-160H400v160ZM180-400h160v-160H180v160Zm440 0h160v-160H620v160ZM180-180h160v-160H180v160Zm440 0h160v-160H620v160Z\"/>\n",
              "  </svg>\n",
              "    </button>\n",
              "\n",
              "  <style>\n",
              "    .colab-df-container {\n",
              "      display:flex;\n",
              "      gap: 12px;\n",
              "    }\n",
              "\n",
              "    .colab-df-convert {\n",
              "      background-color: #E8F0FE;\n",
              "      border: none;\n",
              "      border-radius: 50%;\n",
              "      cursor: pointer;\n",
              "      display: none;\n",
              "      fill: #1967D2;\n",
              "      height: 32px;\n",
              "      padding: 0 0 0 0;\n",
              "      width: 32px;\n",
              "    }\n",
              "\n",
              "    .colab-df-convert:hover {\n",
              "      background-color: #E2EBFA;\n",
              "      box-shadow: 0px 1px 2px rgba(60, 64, 67, 0.3), 0px 1px 3px 1px rgba(60, 64, 67, 0.15);\n",
              "      fill: #174EA6;\n",
              "    }\n",
              "\n",
              "    .colab-df-buttons div {\n",
              "      margin-bottom: 4px;\n",
              "    }\n",
              "\n",
              "    [theme=dark] .colab-df-convert {\n",
              "      background-color: #3B4455;\n",
              "      fill: #D2E3FC;\n",
              "    }\n",
              "\n",
              "    [theme=dark] .colab-df-convert:hover {\n",
              "      background-color: #434B5C;\n",
              "      box-shadow: 0px 1px 3px 1px rgba(0, 0, 0, 0.15);\n",
              "      filter: drop-shadow(0px 1px 2px rgba(0, 0, 0, 0.3));\n",
              "      fill: #FFFFFF;\n",
              "    }\n",
              "  </style>\n",
              "\n",
              "    <script>\n",
              "      const buttonEl =\n",
              "        document.querySelector('#df-7a0a3d42-e3e2-45bc-9ee5-9037eea3b053 button.colab-df-convert');\n",
              "      buttonEl.style.display =\n",
              "        google.colab.kernel.accessAllowed ? 'block' : 'none';\n",
              "\n",
              "      async function convertToInteractive(key) {\n",
              "        const element = document.querySelector('#df-7a0a3d42-e3e2-45bc-9ee5-9037eea3b053');\n",
              "        const dataTable =\n",
              "          await google.colab.kernel.invokeFunction('convertToInteractive',\n",
              "                                                    [key], {});\n",
              "        if (!dataTable) return;\n",
              "\n",
              "        const docLinkHtml = 'Like what you see? Visit the ' +\n",
              "          '<a target=\"_blank\" href=https://colab.research.google.com/notebooks/data_table.ipynb>data table notebook</a>'\n",
              "          + ' to learn more about interactive tables.';\n",
              "        element.innerHTML = '';\n",
              "        dataTable['output_type'] = 'display_data';\n",
              "        await google.colab.output.renderOutput(dataTable, element);\n",
              "        const docLink = document.createElement('div');\n",
              "        docLink.innerHTML = docLinkHtml;\n",
              "        element.appendChild(docLink);\n",
              "      }\n",
              "    </script>\n",
              "  </div>\n",
              "\n",
              "\n",
              "<div id=\"df-a818020e-e39f-4e97-b989-fba5f0767bf3\">\n",
              "  <button class=\"colab-df-quickchart\" onclick=\"quickchart('df-a818020e-e39f-4e97-b989-fba5f0767bf3')\"\n",
              "            title=\"Suggest charts\"\n",
              "            style=\"display:none;\">\n",
              "\n",
              "<svg xmlns=\"http://www.w3.org/2000/svg\" height=\"24px\"viewBox=\"0 0 24 24\"\n",
              "     width=\"24px\">\n",
              "    <g>\n",
              "        <path d=\"M19 3H5c-1.1 0-2 .9-2 2v14c0 1.1.9 2 2 2h14c1.1 0 2-.9 2-2V5c0-1.1-.9-2-2-2zM9 17H7v-7h2v7zm4 0h-2V7h2v10zm4 0h-2v-4h2v4z\"/>\n",
              "    </g>\n",
              "</svg>\n",
              "  </button>\n",
              "\n",
              "<style>\n",
              "  .colab-df-quickchart {\n",
              "      --bg-color: #E8F0FE;\n",
              "      --fill-color: #1967D2;\n",
              "      --hover-bg-color: #E2EBFA;\n",
              "      --hover-fill-color: #174EA6;\n",
              "      --disabled-fill-color: #AAA;\n",
              "      --disabled-bg-color: #DDD;\n",
              "  }\n",
              "\n",
              "  [theme=dark] .colab-df-quickchart {\n",
              "      --bg-color: #3B4455;\n",
              "      --fill-color: #D2E3FC;\n",
              "      --hover-bg-color: #434B5C;\n",
              "      --hover-fill-color: #FFFFFF;\n",
              "      --disabled-bg-color: #3B4455;\n",
              "      --disabled-fill-color: #666;\n",
              "  }\n",
              "\n",
              "  .colab-df-quickchart {\n",
              "    background-color: var(--bg-color);\n",
              "    border: none;\n",
              "    border-radius: 50%;\n",
              "    cursor: pointer;\n",
              "    display: none;\n",
              "    fill: var(--fill-color);\n",
              "    height: 32px;\n",
              "    padding: 0;\n",
              "    width: 32px;\n",
              "  }\n",
              "\n",
              "  .colab-df-quickchart:hover {\n",
              "    background-color: var(--hover-bg-color);\n",
              "    box-shadow: 0 1px 2px rgba(60, 64, 67, 0.3), 0 1px 3px 1px rgba(60, 64, 67, 0.15);\n",
              "    fill: var(--button-hover-fill-color);\n",
              "  }\n",
              "\n",
              "  .colab-df-quickchart-complete:disabled,\n",
              "  .colab-df-quickchart-complete:disabled:hover {\n",
              "    background-color: var(--disabled-bg-color);\n",
              "    fill: var(--disabled-fill-color);\n",
              "    box-shadow: none;\n",
              "  }\n",
              "\n",
              "  .colab-df-spinner {\n",
              "    border: 2px solid var(--fill-color);\n",
              "    border-color: transparent;\n",
              "    border-bottom-color: var(--fill-color);\n",
              "    animation:\n",
              "      spin 1s steps(1) infinite;\n",
              "  }\n",
              "\n",
              "  @keyframes spin {\n",
              "    0% {\n",
              "      border-color: transparent;\n",
              "      border-bottom-color: var(--fill-color);\n",
              "      border-left-color: var(--fill-color);\n",
              "    }\n",
              "    20% {\n",
              "      border-color: transparent;\n",
              "      border-left-color: var(--fill-color);\n",
              "      border-top-color: var(--fill-color);\n",
              "    }\n",
              "    30% {\n",
              "      border-color: transparent;\n",
              "      border-left-color: var(--fill-color);\n",
              "      border-top-color: var(--fill-color);\n",
              "      border-right-color: var(--fill-color);\n",
              "    }\n",
              "    40% {\n",
              "      border-color: transparent;\n",
              "      border-right-color: var(--fill-color);\n",
              "      border-top-color: var(--fill-color);\n",
              "    }\n",
              "    60% {\n",
              "      border-color: transparent;\n",
              "      border-right-color: var(--fill-color);\n",
              "    }\n",
              "    80% {\n",
              "      border-color: transparent;\n",
              "      border-right-color: var(--fill-color);\n",
              "      border-bottom-color: var(--fill-color);\n",
              "    }\n",
              "    90% {\n",
              "      border-color: transparent;\n",
              "      border-bottom-color: var(--fill-color);\n",
              "    }\n",
              "  }\n",
              "</style>\n",
              "\n",
              "  <script>\n",
              "    async function quickchart(key) {\n",
              "      const quickchartButtonEl =\n",
              "        document.querySelector('#' + key + ' button');\n",
              "      quickchartButtonEl.disabled = true;  // To prevent multiple clicks.\n",
              "      quickchartButtonEl.classList.add('colab-df-spinner');\n",
              "      try {\n",
              "        const charts = await google.colab.kernel.invokeFunction(\n",
              "            'suggestCharts', [key], {});\n",
              "      } catch (error) {\n",
              "        console.error('Error during call to suggestCharts:', error);\n",
              "      }\n",
              "      quickchartButtonEl.classList.remove('colab-df-spinner');\n",
              "      quickchartButtonEl.classList.add('colab-df-quickchart-complete');\n",
              "    }\n",
              "    (() => {\n",
              "      let quickchartButtonEl =\n",
              "        document.querySelector('#df-a818020e-e39f-4e97-b989-fba5f0767bf3 button');\n",
              "      quickchartButtonEl.style.display =\n",
              "        google.colab.kernel.accessAllowed ? 'block' : 'none';\n",
              "    })();\n",
              "  </script>\n",
              "</div>\n",
              "\n",
              "    </div>\n",
              "  </div>\n"
            ],
            "application/vnd.google.colaboratory.intrinsic+json": {
              "type": "dataframe",
              "variable_name": "X_test1",
              "summary": "{\n  \"name\": \"X_test1\",\n  \"rows\": 79,\n  \"fields\": [\n    {\n      \"column\": \"Cylinders\",\n      \"properties\": {\n        \"dtype\": \"number\",\n        \"std\": 1,\n        \"min\": 3,\n        \"max\": 8,\n        \"num_unique_values\": 4,\n        \"samples\": [\n          4,\n          3,\n          8\n        ],\n        \"semantic_type\": \"\",\n        \"description\": \"\"\n      }\n    },\n    {\n      \"column\": \"Displacement\",\n      \"properties\": {\n        \"dtype\": \"number\",\n        \"std\": 108.98501775965677,\n        \"min\": 70.0,\n        \"max\": 454.0,\n        \"num_unique_values\": 40,\n        \"samples\": [\n          307.0,\n          121.0,\n          250.0\n        ],\n        \"semantic_type\": \"\",\n        \"description\": \"\"\n      }\n    },\n    {\n      \"column\": \"Horsepower\",\n      \"properties\": {\n        \"dtype\": \"number\",\n        \"std\": 40.088359887964714,\n        \"min\": 46.0,\n        \"max\": 220.0,\n        \"num_unique_values\": 42,\n        \"samples\": [\n          86.0,\n          152.0,\n          108.0\n        ],\n        \"semantic_type\": \"\",\n        \"description\": \"\"\n      }\n    },\n    {\n      \"column\": \"Weight\",\n      \"properties\": {\n        \"dtype\": \"number\",\n        \"std\": 828.7749679012203,\n        \"min\": 1760.0,\n        \"max\": 4952.0,\n        \"num_unique_values\": 77,\n        \"samples\": [\n          4615.0,\n          2135.0,\n          2930.0\n        ],\n        \"semantic_type\": \"\",\n        \"description\": \"\"\n      }\n    },\n    {\n      \"column\": \"Acceleration\",\n      \"properties\": {\n        \"dtype\": \"number\",\n        \"std\": 2.975341153909691,\n        \"min\": 8.5,\n        \"max\": 22.2,\n        \"num_unique_values\": 50,\n        \"samples\": [\n          12.9,\n          12.1,\n          17.8\n        ],\n        \"semantic_type\": \"\",\n        \"description\": \"\"\n      }\n    },\n    {\n      \"column\": \"Model Year\",\n      \"properties\": {\n        \"dtype\": \"number\",\n        \"std\": 3,\n        \"min\": 70,\n        \"max\": 82,\n        \"num_unique_values\": 13,\n        \"samples\": [\n          72,\n          77,\n          78\n        ],\n        \"semantic_type\": \"\",\n        \"description\": \"\"\n      }\n    },\n    {\n      \"column\": \"Origin\",\n      \"properties\": {\n        \"dtype\": \"number\",\n        \"std\": 0,\n        \"min\": 1,\n        \"max\": 3,\n        \"num_unique_values\": 3,\n        \"samples\": [\n          1,\n          3,\n          2\n        ],\n        \"semantic_type\": \"\",\n        \"description\": \"\"\n      }\n    }\n  ]\n}"
            }
          },
          "metadata": {},
          "execution_count": 99
        }
      ]
    },
    {
      "cell_type": "code",
      "source": [
        "predictions = mlp.model.predict(X_test1.head(5))\n",
        "predictions"
      ],
      "metadata": {
        "colab": {
          "base_uri": "https://localhost:8080/"
        },
        "id": "0BwjKfBy-3AV",
        "outputId": "46ff7180-56ba-4d97-fc34-baf173cdd2be"
      },
      "execution_count": 100,
      "outputs": [
        {
          "output_type": "stream",
          "name": "stderr",
          "text": [
            "WARNING:tensorflow:5 out of the last 14 calls to <function TensorFlowTrainer.make_predict_function.<locals>.one_step_on_data_distributed at 0x79417a4694e0> triggered tf.function retracing. Tracing is expensive and the excessive number of tracings could be due to (1) creating @tf.function repeatedly in a loop, (2) passing tensors with different shapes, (3) passing Python objects instead of tensors. For (1), please define your @tf.function outside of the loop. For (2), @tf.function has reduce_retracing=True option that can avoid unnecessary retracing. For (3), please refer to https://www.tensorflow.org/guide/function#controlling_retracing and https://www.tensorflow.org/api_docs/python/tf/function for  more details.\n"
          ]
        },
        {
          "output_type": "stream",
          "name": "stdout",
          "text": [
            "\u001b[1m1/1\u001b[0m \u001b[32m━━━━━━━━━━━━━━━━━━━━\u001b[0m\u001b[37m\u001b[0m \u001b[1m0s\u001b[0m 85ms/step\n"
          ]
        },
        {
          "output_type": "execute_result",
          "data": {
            "text/plain": [
              "array([[20.31814 ],\n",
              "       [16.674456],\n",
              "       [17.145052],\n",
              "       [29.927301],\n",
              "       [14.422106]], dtype=float32)"
            ]
          },
          "metadata": {},
          "execution_count": 100
        }
      ]
    },
    {
      "cell_type": "code",
      "source": [
        "targets = y_test1.head(5)\n",
        "targets.values"
      ],
      "metadata": {
        "colab": {
          "base_uri": "https://localhost:8080/"
        },
        "id": "yudL1hYy-zF_",
        "outputId": "0d38e4af-2b95-4c9c-ed18-2eda8de5fe02"
      },
      "execution_count": 101,
      "outputs": [
        {
          "output_type": "execute_result",
          "data": {
            "text/plain": [
              "array([19.9, 14. , 18.5, 32.9, 10. ])"
            ]
          },
          "metadata": {},
          "execution_count": 101
        }
      ]
    },
    {
      "cell_type": "code",
      "source": [
        "for i in range(len(targets)):\n",
        "  print(f\"Target: {targets.values[i]} -- Prediction: {predictions[i][0]}\")"
      ],
      "metadata": {
        "colab": {
          "base_uri": "https://localhost:8080/"
        },
        "id": "pMWpCT6w-7Yt",
        "outputId": "26d211c8-0d50-4da6-a4e9-f59b9a645f1f"
      },
      "execution_count": 102,
      "outputs": [
        {
          "output_type": "stream",
          "name": "stdout",
          "text": [
            "Target: 19.9 -- Prediction: 20.318140029907227\n",
            "Target: 14.0 -- Prediction: 16.674455642700195\n",
            "Target: 18.5 -- Prediction: 17.145051956176758\n",
            "Target: 32.9 -- Prediction: 29.92730140686035\n",
            "Target: 10.0 -- Prediction: 14.42210578918457\n"
          ]
        }
      ]
    },
    {
      "cell_type": "code",
      "source": [],
      "metadata": {
        "id": "srPXDd2e_Mc7"
      },
      "execution_count": null,
      "outputs": []
    }
  ]
}